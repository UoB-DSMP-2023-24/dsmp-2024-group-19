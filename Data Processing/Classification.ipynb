{
 "cells": [
  {
   "cell_type": "code",
   "execution_count": 1,
   "metadata": {},
   "outputs": [
    {
     "name": "stdout",
     "output_type": "stream",
     "text": [
      "Working directory: c:\\Users\\wwden\\OneDrive\\Documents\\GitHub\\dsmp-2024-group-19\n"
     ]
    }
   ],
   "source": [
    "import os\n",
    "\n",
    "def move_to_parent_dir():\n",
    "    current_directory = os.getcwd()\n",
    "    parent_directory = os.path.dirname(current_directory)\n",
    "    os.chdir(parent_directory)\n",
    "    print(\"Working directory:\", os.getcwd())\n",
    "\n",
    "move_to_parent_dir()"
   ]
  },
  {
   "cell_type": "code",
   "execution_count": 2,
   "metadata": {},
   "outputs": [
    {
     "name": "stdout",
     "output_type": "stream",
     "text": [
      "Opening UoB_Set01_2025-01-02LOBs.txt\n",
      "LOB: 2025-01-02\n",
      "Density: 0.018302037000311633\n",
      "Opening UoB_Set01_2025-01-03LOBs.txt\n",
      "LOB: 2025-01-03\n",
      "Density: 0.016811435298289212\n",
      "Opening UoB_Set01_2025-01-06LOBs.txt\n",
      "LOB: 2025-01-06\n",
      "Density: 0.018428771405774813\n",
      "Opening UoB_Set01_2025-01-07LOBs.txt\n",
      "LOB: 2025-01-07\n",
      "Density: 0.019879855302015637\n",
      "Opening UoB_Set01_2025-01-08LOBs.txt\n",
      "LOB: 2025-01-08\n"
     ]
    }
   ],
   "source": [
    "from scipy.sparse import csr_matrix\n",
    "from scipy.sparse import save_npz\n",
    "import numpy as np\n",
    "from tools import get_LOBs\n",
    "\n",
    "for day in range(125):\n",
    "    df = get_LOBs(1,day)[0]\n",
    "\n",
    "    date = str(df.index[0].date())\n",
    "\n",
    "    print(f\"LOB: {date}\")\n",
    "    N = len(df)\n",
    "    LOB_arr = np.zeros((N,800), dtype = np.int8)\n",
    "    row_i = 0\n",
    "    for i, row in df.iterrows():\n",
    "\n",
    "        bids = row[\"LOB\"][0][1]\n",
    "        asks = row[\"LOB\"][1][1]\n",
    "\n",
    "        for price, size in bids:\n",
    "            LOB_arr[row_i, price - 1] = -size\n",
    "\n",
    "        for price, size in asks:\n",
    "            LOB_arr[row_i, price - 1] = size\n",
    "\n",
    "        row_i += 1\n",
    "\n",
    "\n",
    "\n",
    "    print(\"Density:\", 1 - np.mean(LOB_arr == 0))\n",
    "    save_npz(os.path.join(\"CSR_Data\", f\"CSR_LOB_{date}.npz\"), csr_matrix(LOB_arr, dtype=np.int8))\n",
    "    with open(os.path.join(\"CSR_Data\", f\"Timestamps_{date}.csv\"), 'w') as f:\n",
    "        for timestamp in df.index:\n",
    "            f.write(str(timestamp.time()) + \"\\n\")\n"
   ]
  },
  {
   "cell_type": "code",
   "execution_count": null,
   "metadata": {},
   "outputs": [],
   "source": [
    "from scipy.sparse import load_npz\n",
    "\n",
    "# Load the sparse matrix from the \"test.npz\" file\n",
    "loaded_array = load_npz(\"test.npz\")\n",
    "\n",
    "# Convert the loaded sparse matrix to a dense NumPy array\n",
    "dense_array = loaded_array.toarray()\n",
    "\n",
    "dense_array"
   ]
  },
  {
   "cell_type": "code",
   "execution_count": null,
   "metadata": {},
   "outputs": [],
   "source": [
    "def CBS(c):\n",
    "    col = c.copy()\n",
    "    col[col >= 0] = 0\n",
    "    diff = np.abs(np.diff(col))\n",
    "    return np.sum(diff) + col[0]\n",
    "\n",
    "def CAS(c):\n",
    "    col = c.copy()\n",
    "    col[col <= 0] = 0\n",
    "    diff = np.abs(np.diff(col))\n",
    "    return np.sum(diff) + col[0]\n",
    "\n",
    "cbs = np.apply_along_axis(CBS, axis=0, arr=dense_array)\n",
    "cas = np.apply_along_axis(CAS, axis=0, arr=dense_array)"
   ]
  },
  {
   "cell_type": "code",
   "execution_count": null,
   "metadata": {},
   "outputs": [],
   "source": [
    "import matplotlib.pyplot as plt\n",
    "\n",
    "plt.figure(figsize=(20,10))\n",
    "plt.plot(np.arange(1,801),cbs, label=\"cbs\")\n",
    "plt.plot(np.arange(1,801),cas, label=\"cas\")\n",
    "plt.legend()"
   ]
  },
  {
   "cell_type": "code",
   "execution_count": null,
   "metadata": {},
   "outputs": [],
   "source": [
    "CAS(dense_array[:,799])"
   ]
  },
  {
   "cell_type": "code",
   "execution_count": null,
   "metadata": {},
   "outputs": [],
   "source": [
    "dense_array[:,799]"
   ]
  },
  {
   "cell_type": "code",
   "execution_count": null,
   "metadata": {},
   "outputs": [],
   "source": []
  }
 ],
 "metadata": {
  "kernelspec": {
   "display_name": "venv",
   "language": "python",
   "name": "python3"
  },
  "language_info": {
   "codemirror_mode": {
    "name": "ipython",
    "version": 3
   },
   "file_extension": ".py",
   "mimetype": "text/x-python",
   "name": "python",
   "nbconvert_exporter": "python",
   "pygments_lexer": "ipython3",
   "version": "3.11.8"
  }
 },
 "nbformat": 4,
 "nbformat_minor": 2
}
