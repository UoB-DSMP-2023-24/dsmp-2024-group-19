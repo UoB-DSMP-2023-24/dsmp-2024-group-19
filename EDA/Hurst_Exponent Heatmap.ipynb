{
 "cells": [
  {
   "cell_type": "code",
   "execution_count": 2,
   "metadata": {},
   "outputs": [
    {
     "name": "stdout",
     "output_type": "stream",
     "text": [
      "Working directory: c:\\Users\\benjo\\OneDrive\\Data Science Masters\\DSMP\\dsmp-2024-group-19\n"
     ]
    }
   ],
   "source": [
    "import os\n",
    "current_directory = os.getcwd()\n",
    "parent_directory = os.path.dirname(current_directory)\n",
    "os.chdir(parent_directory)\n",
    "print(\"Working directory:\", os.getcwd())"
   ]
  },
  {
   "cell_type": "code",
   "execution_count": 3,
   "metadata": {},
   "outputs": [],
   "source": [
    "import numpy as np\n",
    "import pandas as pd\n",
    "import matplotlib.pyplot as plt"
   ]
  },
  {
   "cell_type": "code",
   "execution_count": 4,
   "metadata": {},
   "outputs": [
    {
     "name": "stdout",
     "output_type": "stream",
     "text": [
      "Opening UoB_Set01_2025-01-02tapes.csv\n",
      "Opening UoB_Set01_2025-01-03tapes.csv\n",
      "Opening UoB_Set01_2025-01-06tapes.csv\n",
      "Opening UoB_Set01_2025-01-07tapes.csv\n",
      "Opening UoB_Set01_2025-01-08tapes.csv\n",
      "Opening UoB_Set01_2025-01-09tapes.csv\n",
      "Opening UoB_Set01_2025-01-10tapes.csv\n",
      "Opening UoB_Set01_2025-01-13tapes.csv\n",
      "Opening UoB_Set01_2025-01-14tapes.csv\n",
      "Opening UoB_Set01_2025-01-15tapes.csv\n",
      "Opening UoB_Set01_2025-01-16tapes.csv\n",
      "Opening UoB_Set01_2025-01-17tapes.csv\n",
      "Opening UoB_Set01_2025-01-20tapes.csv\n",
      "Opening UoB_Set01_2025-01-21tapes.csv\n",
      "Opening UoB_Set01_2025-01-22tapes.csv\n",
      "Opening UoB_Set01_2025-01-23tapes.csv\n",
      "Opening UoB_Set01_2025-01-24tapes.csv\n",
      "Opening UoB_Set01_2025-01-27tapes.csv\n",
      "Opening UoB_Set01_2025-01-28tapes.csv\n",
      "Opening UoB_Set01_2025-01-29tapes.csv\n",
      "Opening UoB_Set01_2025-01-30tapes.csv\n",
      "Opening UoB_Set01_2025-01-31tapes.csv\n",
      "Opening UoB_Set01_2025-02-03tapes.csv\n",
      "Opening UoB_Set01_2025-02-04tapes.csv\n",
      "Opening UoB_Set01_2025-02-05tapes.csv\n",
      "Opening UoB_Set01_2025-02-06tapes.csv\n",
      "Opening UoB_Set01_2025-02-07tapes.csv\n",
      "Opening UoB_Set01_2025-02-10tapes.csv\n",
      "Opening UoB_Set01_2025-02-11tapes.csv\n",
      "Opening UoB_Set01_2025-02-12tapes.csv\n",
      "Opening UoB_Set01_2025-02-13tapes.csv\n",
      "Opening UoB_Set01_2025-02-14tapes.csv\n",
      "Opening UoB_Set01_2025-02-17tapes.csv\n",
      "Opening UoB_Set01_2025-02-18tapes.csv\n",
      "Opening UoB_Set01_2025-02-19tapes.csv\n",
      "Opening UoB_Set01_2025-02-20tapes.csv\n",
      "Opening UoB_Set01_2025-02-21tapes.csv\n",
      "Opening UoB_Set01_2025-02-24tapes.csv\n",
      "Opening UoB_Set01_2025-02-25tapes.csv\n",
      "Opening UoB_Set01_2025-02-26tapes.csv\n",
      "Opening UoB_Set01_2025-02-27tapes.csv\n",
      "Opening UoB_Set01_2025-02-28tapes.csv\n",
      "Opening UoB_Set01_2025-03-03tapes.csv\n",
      "Opening UoB_Set01_2025-03-04tapes.csv\n",
      "Opening UoB_Set01_2025-03-05tapes.csv\n",
      "Opening UoB_Set01_2025-03-06tapes.csv\n",
      "Opening UoB_Set01_2025-03-07tapes.csv\n",
      "Opening UoB_Set01_2025-03-10tapes.csv\n",
      "Opening UoB_Set01_2025-03-11tapes.csv\n",
      "Opening UoB_Set01_2025-03-12tapes.csv\n",
      "Opening UoB_Set01_2025-03-13tapes.csv\n",
      "Opening UoB_Set01_2025-03-14tapes.csv\n",
      "Opening UoB_Set01_2025-03-17tapes.csv\n",
      "Opening UoB_Set01_2025-03-18tapes.csv\n",
      "Opening UoB_Set01_2025-03-19tapes.csv\n",
      "Opening UoB_Set01_2025-03-20tapes.csv\n",
      "Opening UoB_Set01_2025-03-21tapes.csv\n",
      "Opening UoB_Set01_2025-03-24tapes.csv\n",
      "Opening UoB_Set01_2025-03-25tapes.csv\n",
      "Opening UoB_Set01_2025-03-26tapes.csv\n",
      "Opening UoB_Set01_2025-03-27tapes.csv\n",
      "Opening UoB_Set01_2025-03-28tapes.csv\n",
      "Opening UoB_Set01_2025-03-31tapes.csv\n",
      "Opening UoB_Set01_2025-04-01tapes.csv\n",
      "Opening UoB_Set01_2025-04-02tapes.csv\n",
      "Opening UoB_Set01_2025-04-03tapes.csv\n",
      "Opening UoB_Set01_2025-04-04tapes.csv\n",
      "Opening UoB_Set01_2025-04-07tapes.csv\n",
      "Opening UoB_Set01_2025-04-08tapes.csv\n",
      "Opening UoB_Set01_2025-04-09tapes.csv\n",
      "Opening UoB_Set01_2025-04-10tapes.csv\n",
      "Opening UoB_Set01_2025-04-11tapes.csv\n",
      "Opening UoB_Set01_2025-04-14tapes.csv\n",
      "Opening UoB_Set01_2025-04-15tapes.csv\n",
      "Opening UoB_Set01_2025-04-16tapes.csv\n",
      "Opening UoB_Set01_2025-04-17tapes.csv\n",
      "Opening UoB_Set01_2025-04-22tapes.csv\n",
      "Opening UoB_Set01_2025-04-23tapes.csv\n",
      "Opening UoB_Set01_2025-04-24tapes.csv\n",
      "Opening UoB_Set01_2025-04-25tapes.csv\n",
      "Opening UoB_Set01_2025-04-28tapes.csv\n",
      "Opening UoB_Set01_2025-04-29tapes.csv\n",
      "Opening UoB_Set01_2025-04-30tapes.csv\n",
      "Opening UoB_Set01_2025-05-01tapes.csv\n",
      "Opening UoB_Set01_2025-05-02tapes.csv\n",
      "Opening UoB_Set01_2025-05-06tapes.csv\n",
      "Opening UoB_Set01_2025-05-07tapes.csv\n",
      "Opening UoB_Set01_2025-05-08tapes.csv\n",
      "Opening UoB_Set01_2025-05-09tapes.csv\n",
      "Opening UoB_Set01_2025-05-12tapes.csv\n",
      "Opening UoB_Set01_2025-05-13tapes.csv\n",
      "Opening UoB_Set01_2025-05-14tapes.csv\n",
      "Opening UoB_Set01_2025-05-15tapes.csv\n",
      "Opening UoB_Set01_2025-05-16tapes.csv\n",
      "Opening UoB_Set01_2025-05-19tapes.csv\n",
      "Opening UoB_Set01_2025-05-20tapes.csv\n",
      "Opening UoB_Set01_2025-05-21tapes.csv\n",
      "Opening UoB_Set01_2025-05-22tapes.csv\n",
      "Opening UoB_Set01_2025-05-23tapes.csv\n",
      "Opening UoB_Set01_2025-05-27tapes.csv\n",
      "Opening UoB_Set01_2025-05-28tapes.csv\n",
      "Opening UoB_Set01_2025-05-29tapes.csv\n",
      "Opening UoB_Set01_2025-05-30tapes.csv\n",
      "Opening UoB_Set01_2025-06-02tapes.csv\n",
      "Opening UoB_Set01_2025-06-03tapes.csv\n",
      "Opening UoB_Set01_2025-06-04tapes.csv\n",
      "Opening UoB_Set01_2025-06-05tapes.csv\n",
      "Opening UoB_Set01_2025-06-06tapes.csv\n",
      "Opening UoB_Set01_2025-06-09tapes.csv\n",
      "Opening UoB_Set01_2025-06-10tapes.csv\n",
      "Opening UoB_Set01_2025-06-11tapes.csv\n",
      "Opening UoB_Set01_2025-06-12tapes.csv\n",
      "Opening UoB_Set01_2025-06-13tapes.csv\n",
      "Opening UoB_Set01_2025-06-16tapes.csv\n",
      "Opening UoB_Set01_2025-06-17tapes.csv\n",
      "Opening UoB_Set01_2025-06-18tapes.csv\n",
      "Opening UoB_Set01_2025-06-19tapes.csv\n",
      "Opening UoB_Set01_2025-06-20tapes.csv\n",
      "Opening UoB_Set01_2025-06-23tapes.csv\n",
      "Opening UoB_Set01_2025-06-24tapes.csv\n",
      "Opening UoB_Set01_2025-06-25tapes.csv\n",
      "Opening UoB_Set01_2025-06-26tapes.csv\n",
      "Opening UoB_Set01_2025-06-27tapes.csv\n",
      "Opening UoB_Set01_2025-06-30tapes.csv\n",
      "Opening UoB_Set01_2025-07-01tapes.csv\n"
     ]
    }
   ],
   "source": [
    "from fast_tools import get_all_tapes\n",
    "from tools import get_Tapes\n",
    "\n",
    "resample_periods = [\"1s\", \"5s\", \"10s\", \"30s\", \"1min\", \"2min\", \"5min\"]\n",
    "\n",
    "raw_tapes = get_Tapes(125,0)\n",
    "\n",
    "hc_df = pd.DataFrame(columns=resample_periods)"
   ]
  },
  {
   "cell_type": "code",
   "execution_count": 5,
   "metadata": {},
   "outputs": [
    {
     "name": "stderr",
     "output_type": "stream",
     "text": [
      "C:\\Users\\benjo\\AppData\\Local\\Temp\\ipykernel_3380\\1603852839.py:6: VisibleDeprecationWarning: Creating an ndarray from ragged nested sequences (which is a list-or-tuple of lists-or-tuples-or ndarrays with different lengths or shapes) is deprecated. If you meant to do this, you must specify 'dtype=object' when creating the ndarray.\n",
      "  data_array = np.array(tapes_data)\n"
     ]
    },
    {
     "name": "stdout",
     "output_type": "stream",
     "text": [
      "Period 1s done\n",
      "Period 5s done\n",
      "Period 10s done\n",
      "Period 30s done\n",
      "Period 1min done\n",
      "Period 2min done\n",
      "Period 5min done\n"
     ]
    }
   ],
   "source": [
    "from hurst import compute_Hc\n",
    "\n",
    "for period in resample_periods:\n",
    "    tapes_data = [t[\"Price\"].resample(period).last().ffill().to_numpy() for t in raw_tapes]\n",
    "\n",
    "    data_array = np.array(tapes_data)\n",
    "\n",
    "    hurst_results = []\n",
    "\n",
    "    for i in range(data_array.shape[0]):\n",
    "        H, c, data = compute_Hc(data_array[i])\n",
    "        hurst_results.append(H)\n",
    "\n",
    "    hc_df[period] = hurst_results\n",
    "    print(f\"Period {period} done\")\n",
    "    "
   ]
  },
  {
   "cell_type": "code",
   "execution_count": 6,
   "metadata": {},
   "outputs": [
    {
     "data": {
      "text/plain": [
       "([<matplotlib.axis.YTick at 0x27f816c8280>,\n",
       "  <matplotlib.axis.YTick at 0x27f8169e700>,\n",
       "  <matplotlib.axis.YTick at 0x27f8168bfd0>,\n",
       "  <matplotlib.axis.YTick at 0x27f8175b610>,\n",
       "  <matplotlib.axis.YTick at 0x27f8175bd60>,\n",
       "  <matplotlib.axis.YTick at 0x27f817664f0>,\n",
       "  <matplotlib.axis.YTick at 0x27f81766c40>],\n",
       " [Text(0, 0, '1s'),\n",
       "  Text(0, 1, '5s'),\n",
       "  Text(0, 2, '10s'),\n",
       "  Text(0, 3, '30s'),\n",
       "  Text(0, 4, '1min'),\n",
       "  Text(0, 5, '2min'),\n",
       "  Text(0, 6, '5min')])"
      ]
     },
     "execution_count": 6,
     "metadata": {},
     "output_type": "execute_result"
    },
    {
     "data": {
      "image/png": "[encoded data removed]",
      "text/plain": [
       "<Figure size 700x200 with 2 Axes>"
      ]
     },
     "metadata": {},
     "output_type": "display_data"
    }
   ],
   "source": [
    "# plot a heatmap of hurst compnent values for each resample period\n",
    "plt.figure(figsize=(7, 2))\n",
    "plt.imshow(hc_df.T, cmap='coolwarm', aspect='auto', interpolation='none')\n",
    "# colorbar with values 0-1\n",
    "plt.colorbar(label='Hurst Exponent')\n",
    "plt.yticks(range(len(resample_periods)), resample_periods)\n"
   ]
  }
 ],
 "metadata": {
  "kernelspec": {
   "display_name": "base",
   "language": "python",
   "name": "python3"
  },
  "language_info": {
   "codemirror_mode": {
    "name": "ipython",
    "version": 3
   },
   "file_extension": ".py",
   "mimetype": "text/x-python",
   "name": "python",
   "nbconvert_exporter": "python",
   "pygments_lexer": "ipython3",
   "version": "3.9.12"
  }
 },
 "nbformat": 4,
 "nbformat_minor": 2
}
