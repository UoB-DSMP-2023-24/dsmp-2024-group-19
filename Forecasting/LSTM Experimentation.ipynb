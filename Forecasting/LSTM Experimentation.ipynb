{
 "cells": [
  {
   "cell_type": "code",
   "execution_count": 1,
   "metadata": {},
   "outputs": [
    {
     "name": "stdout",
     "output_type": "stream",
     "text": [
      "Working directory: c:\\Users\\benjo\\OneDrive\\Data Science Masters\\DSMP\\dsmp-2024-group-19\n"
     ]
    }
   ],
   "source": [
    "import os\n",
    "current_directory = os.getcwd()\n",
    "parent_directory = os.path.dirname(current_directory)\n",
    "os.chdir(parent_directory)\n",
    "print(\"Working directory:\", os.getcwd())"
   ]
  },
  {
   "cell_type": "code",
   "execution_count": 2,
   "metadata": {},
   "outputs": [],
   "source": [
    "import numpy as np\n",
    "import matplotlib.pyplot as plt\n",
    "import pandas as pd\n",
    "import tensorflow as tf\n",
    "from tensorflow.keras.models import Sequential\n",
    "from tensorflow.keras.layers import Dense\n",
    "from tensorflow.keras.layers import LSTM\n",
    "from sklearn.preprocessing import MinMaxScaler\n",
    "from sklearn.metrics import mean_squared_error\n",
    "from tools import *"
   ]
  },
  {
   "cell_type": "markdown",
   "metadata": {},
   "source": [
    "code adapted from: https://machinelearningmastery.com/time-series-prediction-lstm-recurrent-neural-networks-python-keras/"
   ]
  },
  {
   "cell_type": "code",
   "execution_count": 11,
   "metadata": {},
   "outputs": [
    {
     "name": "stdout",
     "output_type": "stream",
     "text": [
      "Opening UoB_Set01_2025-01-02tapes.csv\n"
     ]
    }
   ],
   "source": [
    "data = read_merged_data()\n",
    "data = pd.DataFrame(data[0])[:600]\n",
    "dataset = data.dropna(subset=[\"Last Tapes Price\"])\n"
   ]
  },
  {
   "cell_type": "code",
   "execution_count": 12,
   "metadata": {},
   "outputs": [],
   "source": [
    "\n",
    "dataset = dataset[\"Last Tapes Price\"].values.reshape(-1,1)"
   ]
  },
  {
   "cell_type": "code",
   "execution_count": 5,
   "metadata": {},
   "outputs": [],
   "source": [
    "# normalize the dataset\n",
    "scaler = MinMaxScaler(feature_range=(0, 1))\n",
    "dataset = scaler.fit_transform(dataset)"
   ]
  },
  {
   "cell_type": "code",
   "execution_count": 13,
   "metadata": {},
   "outputs": [
    {
     "name": "stdout",
     "output_type": "stream",
     "text": [
      "395 195\n"
     ]
    }
   ],
   "source": [
    "# split into train and test sets\n",
    "train_size = int(len(dataset) * 0.67)\n",
    "test_size = len(dataset) - train_size\n",
    "train, test = dataset[0:train_size,:], dataset[train_size:len(dataset),:]\n",
    "print(len(train), len(test))"
   ]
  },
  {
   "cell_type": "code",
   "execution_count": 14,
   "metadata": {},
   "outputs": [],
   "source": [
    "# convert an array of values into a dataset matrix\n",
    "def create_dataset(dataset, look_back=1):\n",
    "\tdataX, dataY = [], []\n",
    "\tfor i in range(len(dataset)-look_back-1):\n",
    "\t\ta = dataset[i:(i+look_back), 0]\n",
    "\t\tdataX.append(a)\n",
    "\t\tdataY.append(dataset[i + look_back, 0])\n",
    "\treturn np.array(dataX), np.array(dataY)"
   ]
  },
  {
   "cell_type": "code",
   "execution_count": 15,
   "metadata": {},
   "outputs": [],
   "source": [
    "# reshape into X=t and Y=t+1\n",
    "look_back = 1\n",
    "trainX, trainY = create_dataset(train, look_back)\n",
    "testX, testY = create_dataset(test, look_back)"
   ]
  },
  {
   "cell_type": "code",
   "execution_count": 16,
   "metadata": {},
   "outputs": [],
   "source": [
    "# reshape input to be [samples, time steps, features]\n",
    "trainX = np.reshape(trainX, (trainX.shape[0], 1, trainX.shape[1]))\n",
    "testX = np.reshape(testX, (testX.shape[0], 1, testX.shape[1]))"
   ]
  },
  {
   "cell_type": "code",
   "execution_count": 17,
   "metadata": {},
   "outputs": [
    {
     "name": "stdout",
     "output_type": "stream",
     "text": [
      "Epoch 1/100\n",
      "393/393 - 6s - loss: 68891.7812 - 6s/epoch - 15ms/step\n",
      "Epoch 2/100\n",
      "393/393 - 4s - loss: 68685.7812 - 4s/epoch - 11ms/step\n",
      "Epoch 3/100\n",
      "393/393 - 4s - loss: 68480.2812 - 4s/epoch - 11ms/step\n",
      "Epoch 4/100\n",
      "393/393 - 4s - loss: 68275.1719 - 4s/epoch - 10ms/step\n",
      "Epoch 5/100\n",
      "393/393 - 4s - loss: 68070.4453 - 4s/epoch - 10ms/step\n",
      "Epoch 6/100\n",
      "393/393 - 4s - loss: 67866.0391 - 4s/epoch - 11ms/step\n",
      "Epoch 7/100\n",
      "393/393 - 4s - loss: 67662.0312 - 4s/epoch - 11ms/step\n",
      "Epoch 8/100\n",
      "393/393 - 4s - loss: 67458.4453 - 4s/epoch - 10ms/step\n",
      "Epoch 9/100\n",
      "393/393 - 4s - loss: 67255.1484 - 4s/epoch - 11ms/step\n",
      "Epoch 10/100\n",
      "393/393 - 4s - loss: 67052.2031 - 4s/epoch - 10ms/step\n",
      "Epoch 11/100\n",
      "393/393 - 4s - loss: 66849.5625 - 4s/epoch - 10ms/step\n",
      "Epoch 12/100\n",
      "393/393 - 4s - loss: 66647.2812 - 4s/epoch - 10ms/step\n",
      "Epoch 13/100\n",
      "393/393 - 4s - loss: 66445.3125 - 4s/epoch - 10ms/step\n",
      "Epoch 14/100\n",
      "393/393 - 4s - loss: 66243.6953 - 4s/epoch - 10ms/step\n",
      "Epoch 15/100\n",
      "393/393 - 4s - loss: 66042.3281 - 4s/epoch - 10ms/step\n",
      "Epoch 16/100\n",
      "393/393 - 4s - loss: 65841.2891 - 4s/epoch - 10ms/step\n",
      "Epoch 17/100\n",
      "393/393 - 4s - loss: 65640.5469 - 4s/epoch - 10ms/step\n",
      "Epoch 18/100\n",
      "393/393 - 4s - loss: 65440.1719 - 4s/epoch - 10ms/step\n",
      "Epoch 19/100\n",
      "393/393 - 4s - loss: 65240.0273 - 4s/epoch - 10ms/step\n",
      "Epoch 20/100\n",
      "393/393 - 4s - loss: 65040.2227 - 4s/epoch - 10ms/step\n",
      "Epoch 21/100\n",
      "393/393 - 4s - loss: 64840.7344 - 4s/epoch - 10ms/step\n",
      "Epoch 22/100\n",
      "393/393 - 4s - loss: 64641.5781 - 4s/epoch - 10ms/step\n",
      "Epoch 23/100\n",
      "393/393 - 4s - loss: 64442.7344 - 4s/epoch - 10ms/step\n",
      "Epoch 24/100\n",
      "393/393 - 4s - loss: 64244.1328 - 4s/epoch - 11ms/step\n",
      "Epoch 25/100\n",
      "393/393 - 4s - loss: 64045.9141 - 4s/epoch - 10ms/step\n",
      "Epoch 26/100\n",
      "393/393 - 4s - loss: 63847.9492 - 4s/epoch - 10ms/step\n",
      "Epoch 27/100\n",
      "393/393 - 4s - loss: 63650.3203 - 4s/epoch - 11ms/step\n",
      "Epoch 28/100\n",
      "393/393 - 5s - loss: 63452.9609 - 5s/epoch - 12ms/step\n",
      "Epoch 29/100\n",
      "393/393 - 4s - loss: 63255.9453 - 4s/epoch - 10ms/step\n",
      "Epoch 30/100\n",
      "393/393 - 4s - loss: 63059.2461 - 4s/epoch - 10ms/step\n",
      "Epoch 31/100\n",
      "393/393 - 4s - loss: 62862.8711 - 4s/epoch - 10ms/step\n",
      "Epoch 32/100\n",
      "393/393 - 4s - loss: 62666.7422 - 4s/epoch - 10ms/step\n",
      "Epoch 33/100\n",
      "393/393 - 4s - loss: 62470.9805 - 4s/epoch - 10ms/step\n",
      "Epoch 34/100\n",
      "393/393 - 4s - loss: 62275.4961 - 4s/epoch - 10ms/step\n",
      "Epoch 35/100\n",
      "393/393 - 4s - loss: 62080.2969 - 4s/epoch - 10ms/step\n",
      "Epoch 36/100\n",
      "393/393 - 4s - loss: 61885.3945 - 4s/epoch - 11ms/step\n",
      "Epoch 37/100\n",
      "393/393 - 4s - loss: 61690.8086 - 4s/epoch - 11ms/step\n",
      "Epoch 38/100\n",
      "393/393 - 4s - loss: 61496.6016 - 4s/epoch - 10ms/step\n",
      "Epoch 39/100\n",
      "393/393 - 4s - loss: 61302.6367 - 4s/epoch - 10ms/step\n",
      "Epoch 40/100\n",
      "393/393 - 4s - loss: 61109.0078 - 4s/epoch - 11ms/step\n",
      "Epoch 41/100\n",
      "393/393 - 4s - loss: 60915.7305 - 4s/epoch - 10ms/step\n",
      "Epoch 42/100\n",
      "393/393 - 4s - loss: 60722.6875 - 4s/epoch - 10ms/step\n",
      "Epoch 43/100\n",
      "393/393 - 4s - loss: 60529.9961 - 4s/epoch - 10ms/step\n",
      "Epoch 44/100\n",
      "393/393 - 4s - loss: 60337.5859 - 4s/epoch - 10ms/step\n",
      "Epoch 45/100\n",
      "393/393 - 4s - loss: 60145.4453 - 4s/epoch - 10ms/step\n",
      "Epoch 46/100\n",
      "393/393 - 4s - loss: 59953.6602 - 4s/epoch - 10ms/step\n",
      "Epoch 47/100\n",
      "393/393 - 4s - loss: 59762.1875 - 4s/epoch - 10ms/step\n",
      "Epoch 48/100\n",
      "393/393 - 4s - loss: 59571.0469 - 4s/epoch - 10ms/step\n",
      "Epoch 49/100\n",
      "393/393 - 4s - loss: 59380.1406 - 4s/epoch - 10ms/step\n",
      "Epoch 50/100\n",
      "393/393 - 4s - loss: 59189.6016 - 4s/epoch - 10ms/step\n",
      "Epoch 51/100\n",
      "393/393 - 4s - loss: 58999.3242 - 4s/epoch - 10ms/step\n",
      "Epoch 52/100\n",
      "393/393 - 4s - loss: 58809.4180 - 4s/epoch - 10ms/step\n",
      "Epoch 53/100\n",
      "393/393 - 4s - loss: 58619.7930 - 4s/epoch - 11ms/step\n",
      "Epoch 54/100\n",
      "393/393 - 4s - loss: 58430.4180 - 4s/epoch - 11ms/step\n",
      "Epoch 55/100\n",
      "393/393 - 4s - loss: 58241.4180 - 4s/epoch - 11ms/step\n",
      "Epoch 56/100\n",
      "393/393 - 4s - loss: 58052.6953 - 4s/epoch - 11ms/step\n",
      "Epoch 57/100\n",
      "393/393 - 4s - loss: 57864.2227 - 4s/epoch - 10ms/step\n",
      "Epoch 58/100\n",
      "393/393 - 4s - loss: 57676.1367 - 4s/epoch - 11ms/step\n",
      "Epoch 59/100\n",
      "393/393 - 4s - loss: 57488.3867 - 4s/epoch - 11ms/step\n",
      "Epoch 60/100\n",
      "393/393 - 4s - loss: 57300.8867 - 4s/epoch - 11ms/step\n",
      "Epoch 61/100\n",
      "393/393 - 4s - loss: 57113.6914 - 4s/epoch - 10ms/step\n",
      "Epoch 62/100\n",
      "393/393 - 4s - loss: 56926.8398 - 4s/epoch - 10ms/step\n",
      "Epoch 63/100\n",
      "393/393 - 4s - loss: 56740.2812 - 4s/epoch - 11ms/step\n",
      "Epoch 64/100\n",
      "393/393 - 4s - loss: 56554.0117 - 4s/epoch - 10ms/step\n",
      "Epoch 65/100\n",
      "393/393 - 4s - loss: 56368.0352 - 4s/epoch - 11ms/step\n",
      "Epoch 66/100\n",
      "393/393 - 4s - loss: 56182.4492 - 4s/epoch - 11ms/step\n",
      "Epoch 67/100\n",
      "393/393 - 4s - loss: 55997.1250 - 4s/epoch - 10ms/step\n",
      "Epoch 68/100\n",
      "393/393 - 4s - loss: 55812.0977 - 4s/epoch - 11ms/step\n",
      "Epoch 69/100\n",
      "393/393 - 4s - loss: 55627.3594 - 4s/epoch - 10ms/step\n",
      "Epoch 70/100\n",
      "393/393 - 4s - loss: 55442.9375 - 4s/epoch - 10ms/step\n",
      "Epoch 71/100\n",
      "393/393 - 4s - loss: 55258.8594 - 4s/epoch - 10ms/step\n",
      "Epoch 72/100\n",
      "393/393 - 4s - loss: 55075.0898 - 4s/epoch - 10ms/step\n",
      "Epoch 73/100\n",
      "393/393 - 4s - loss: 54891.5820 - 4s/epoch - 11ms/step\n",
      "Epoch 74/100\n",
      "393/393 - 4s - loss: 54708.3711 - 4s/epoch - 10ms/step\n",
      "Epoch 75/100\n",
      "393/393 - 4s - loss: 54525.5000 - 4s/epoch - 10ms/step\n",
      "Epoch 76/100\n",
      "393/393 - 4s - loss: 54342.9609 - 4s/epoch - 10ms/step\n",
      "Epoch 77/100\n",
      "393/393 - 4s - loss: 54160.7031 - 4s/epoch - 10ms/step\n",
      "Epoch 78/100\n",
      "393/393 - 4s - loss: 53978.7617 - 4s/epoch - 10ms/step\n",
      "Epoch 79/100\n",
      "393/393 - 4s - loss: 53797.1562 - 4s/epoch - 10ms/step\n",
      "Epoch 80/100\n",
      "393/393 - 4s - loss: 53615.8125 - 4s/epoch - 10ms/step\n",
      "Epoch 81/100\n",
      "393/393 - 4s - loss: 53434.7773 - 4s/epoch - 10ms/step\n",
      "Epoch 82/100\n",
      "393/393 - 4s - loss: 53254.0352 - 4s/epoch - 10ms/step\n",
      "Epoch 83/100\n",
      "393/393 - 4s - loss: 53073.6328 - 4s/epoch - 10ms/step\n",
      "Epoch 84/100\n",
      "393/393 - 4s - loss: 52893.5273 - 4s/epoch - 10ms/step\n",
      "Epoch 85/100\n",
      "393/393 - 4s - loss: 52713.7461 - 4s/epoch - 10ms/step\n",
      "Epoch 86/100\n",
      "393/393 - 4s - loss: 52534.2500 - 4s/epoch - 10ms/step\n",
      "Epoch 87/100\n",
      "393/393 - 4s - loss: 52355.0938 - 4s/epoch - 10ms/step\n",
      "Epoch 88/100\n",
      "393/393 - 4s - loss: 52176.2500 - 4s/epoch - 10ms/step\n",
      "Epoch 89/100\n",
      "393/393 - 4s - loss: 51997.6992 - 4s/epoch - 10ms/step\n",
      "Epoch 90/100\n",
      "393/393 - 4s - loss: 51819.4766 - 4s/epoch - 10ms/step\n",
      "Epoch 91/100\n",
      "393/393 - 4s - loss: 51641.4922 - 4s/epoch - 10ms/step\n",
      "Epoch 92/100\n",
      "393/393 - 4s - loss: 51463.8984 - 4s/epoch - 10ms/step\n",
      "Epoch 93/100\n",
      "393/393 - 4s - loss: 51286.5352 - 4s/epoch - 11ms/step\n",
      "Epoch 94/100\n",
      "393/393 - 4s - loss: 51109.4844 - 4s/epoch - 10ms/step\n",
      "Epoch 95/100\n",
      "393/393 - 4s - loss: 50932.7734 - 4s/epoch - 10ms/step\n",
      "Epoch 96/100\n",
      "393/393 - 4s - loss: 50756.3828 - 4s/epoch - 10ms/step\n",
      "Epoch 97/100\n",
      "393/393 - 4s - loss: 50580.2852 - 4s/epoch - 10ms/step\n",
      "Epoch 98/100\n",
      "393/393 - 4s - loss: 50404.4727 - 4s/epoch - 10ms/step\n",
      "Epoch 99/100\n",
      "393/393 - 4s - loss: 50228.9688 - 4s/epoch - 10ms/step\n",
      "Epoch 100/100\n",
      "393/393 - 4s - loss: 50053.7461 - 4s/epoch - 10ms/step\n"
     ]
    },
    {
     "data": {
      "text/plain": [
       "<keras.callbacks.History at 0x1a9b2097190>"
      ]
     },
     "execution_count": 17,
     "metadata": {},
     "output_type": "execute_result"
    }
   ],
   "source": [
    "# create and fit the LSTM network\n",
    "model = Sequential()\n",
    "model.add(LSTM(4, input_shape=(1, look_back)))\n",
    "model.add(Dense(1))\n",
    "model.compile(loss='mean_squared_error', optimizer='adam')\n",
    "model.fit(trainX, trainY, epochs=100, batch_size=1, verbose=2)"
   ]
  },
  {
   "cell_type": "code",
   "execution_count": 20,
   "metadata": {},
   "outputs": [
    {
     "name": "stdout",
     "output_type": "stream",
     "text": [
      " 1/13 [=>............................] - ETA: 0s"
     ]
    },
    {
     "name": "stdout",
     "output_type": "stream",
     "text": [
      "13/13 [==============================] - 0s 6ms/step\n",
      "7/7 [==============================] - 0s 7ms/step\n"
     ]
    },
    {
     "ename": "ValueError",
     "evalue": "Found array with dim 3. None expected <= 2.",
     "output_type": "error",
     "traceback": [
      "\u001b[1;31m---------------------------------------------------------------------------\u001b[0m",
      "\u001b[1;31mValueError\u001b[0m                                Traceback (most recent call last)",
      "Cell \u001b[1;32mIn[20], line 6\u001b[0m\n\u001b[0;32m      4\u001b[0m \u001b[38;5;66;03m# invert predictions\u001b[39;00m\n\u001b[0;32m      5\u001b[0m trainPredict \u001b[38;5;241m=\u001b[39m scaler\u001b[38;5;241m.\u001b[39minverse_transform(trainPredict)\n\u001b[1;32m----> 6\u001b[0m trainY \u001b[38;5;241m=\u001b[39m \u001b[43mscaler\u001b[49m\u001b[38;5;241;43m.\u001b[39;49m\u001b[43minverse_transform\u001b[49m\u001b[43m(\u001b[49m\u001b[43m[\u001b[49m\u001b[43mtrainY\u001b[49m\u001b[43m]\u001b[49m\u001b[43m)\u001b[49m\n\u001b[0;32m      7\u001b[0m testPredict \u001b[38;5;241m=\u001b[39m scaler\u001b[38;5;241m.\u001b[39minverse_transform(testPredict)\n\u001b[0;32m      8\u001b[0m testY \u001b[38;5;241m=\u001b[39m scaler\u001b[38;5;241m.\u001b[39minverse_transform([testY])\n",
      "File \u001b[1;32mc:\\Users\\benjo\\anaconda3\\envs\\lipreadGPU\\lib\\site-packages\\sklearn\\preprocessing\\_data.py:537\u001b[0m, in \u001b[0;36mMinMaxScaler.inverse_transform\u001b[1;34m(self, X)\u001b[0m\n\u001b[0;32m    523\u001b[0m \u001b[38;5;250m\u001b[39m\u001b[38;5;124;03m\"\"\"Undo the scaling of X according to feature_range.\u001b[39;00m\n\u001b[0;32m    524\u001b[0m \n\u001b[0;32m    525\u001b[0m \u001b[38;5;124;03mParameters\u001b[39;00m\n\u001b[1;32m   (...)\u001b[0m\n\u001b[0;32m    533\u001b[0m \u001b[38;5;124;03m    Transformed data.\u001b[39;00m\n\u001b[0;32m    534\u001b[0m \u001b[38;5;124;03m\"\"\"\u001b[39;00m\n\u001b[0;32m    535\u001b[0m check_is_fitted(\u001b[38;5;28mself\u001b[39m)\n\u001b[1;32m--> 537\u001b[0m X \u001b[38;5;241m=\u001b[39m \u001b[43mcheck_array\u001b[49m\u001b[43m(\u001b[49m\n\u001b[0;32m    538\u001b[0m \u001b[43m    \u001b[49m\u001b[43mX\u001b[49m\u001b[43m,\u001b[49m\u001b[43m \u001b[49m\u001b[43mcopy\u001b[49m\u001b[38;5;241;43m=\u001b[39;49m\u001b[38;5;28;43mself\u001b[39;49m\u001b[38;5;241;43m.\u001b[39;49m\u001b[43mcopy\u001b[49m\u001b[43m,\u001b[49m\u001b[43m \u001b[49m\u001b[43mdtype\u001b[49m\u001b[38;5;241;43m=\u001b[39;49m\u001b[43mFLOAT_DTYPES\u001b[49m\u001b[43m,\u001b[49m\u001b[43m \u001b[49m\u001b[43mforce_all_finite\u001b[49m\u001b[38;5;241;43m=\u001b[39;49m\u001b[38;5;124;43m\"\u001b[39;49m\u001b[38;5;124;43mallow-nan\u001b[39;49m\u001b[38;5;124;43m\"\u001b[39;49m\n\u001b[0;32m    539\u001b[0m \u001b[43m\u001b[49m\u001b[43m)\u001b[49m\n\u001b[0;32m    541\u001b[0m X \u001b[38;5;241m-\u001b[39m\u001b[38;5;241m=\u001b[39m \u001b[38;5;28mself\u001b[39m\u001b[38;5;241m.\u001b[39mmin_\n\u001b[0;32m    542\u001b[0m X \u001b[38;5;241m/\u001b[39m\u001b[38;5;241m=\u001b[39m \u001b[38;5;28mself\u001b[39m\u001b[38;5;241m.\u001b[39mscale_\n",
      "File \u001b[1;32mc:\\Users\\benjo\\anaconda3\\envs\\lipreadGPU\\lib\\site-packages\\sklearn\\utils\\validation.py:913\u001b[0m, in \u001b[0;36mcheck_array\u001b[1;34m(array, accept_sparse, accept_large_sparse, dtype, order, copy, force_all_finite, ensure_2d, allow_nd, ensure_min_samples, ensure_min_features, estimator, input_name)\u001b[0m\n\u001b[0;32m    908\u001b[0m     \u001b[38;5;28;01mraise\u001b[39;00m \u001b[38;5;167;01mValueError\u001b[39;00m(\n\u001b[0;32m    909\u001b[0m         \u001b[38;5;124m\"\u001b[39m\u001b[38;5;124mdtype=\u001b[39m\u001b[38;5;124m'\u001b[39m\u001b[38;5;124mnumeric\u001b[39m\u001b[38;5;124m'\u001b[39m\u001b[38;5;124m is not compatible with arrays of bytes/strings.\u001b[39m\u001b[38;5;124m\"\u001b[39m\n\u001b[0;32m    910\u001b[0m         \u001b[38;5;124m\"\u001b[39m\u001b[38;5;124mConvert your data to numeric values explicitly instead.\u001b[39m\u001b[38;5;124m\"\u001b[39m\n\u001b[0;32m    911\u001b[0m     )\n\u001b[0;32m    912\u001b[0m \u001b[38;5;28;01mif\u001b[39;00m \u001b[38;5;129;01mnot\u001b[39;00m allow_nd \u001b[38;5;129;01mand\u001b[39;00m array\u001b[38;5;241m.\u001b[39mndim \u001b[38;5;241m>\u001b[39m\u001b[38;5;241m=\u001b[39m \u001b[38;5;241m3\u001b[39m:\n\u001b[1;32m--> 913\u001b[0m     \u001b[38;5;28;01mraise\u001b[39;00m \u001b[38;5;167;01mValueError\u001b[39;00m(\n\u001b[0;32m    914\u001b[0m         \u001b[38;5;124m\"\u001b[39m\u001b[38;5;124mFound array with dim \u001b[39m\u001b[38;5;132;01m%d\u001b[39;00m\u001b[38;5;124m. \u001b[39m\u001b[38;5;132;01m%s\u001b[39;00m\u001b[38;5;124m expected <= 2.\u001b[39m\u001b[38;5;124m\"\u001b[39m\n\u001b[0;32m    915\u001b[0m         \u001b[38;5;241m%\u001b[39m (array\u001b[38;5;241m.\u001b[39mndim, estimator_name)\n\u001b[0;32m    916\u001b[0m     )\n\u001b[0;32m    918\u001b[0m \u001b[38;5;28;01mif\u001b[39;00m force_all_finite:\n\u001b[0;32m    919\u001b[0m     _assert_all_finite(\n\u001b[0;32m    920\u001b[0m         array,\n\u001b[0;32m    921\u001b[0m         input_name\u001b[38;5;241m=\u001b[39minput_name,\n\u001b[0;32m    922\u001b[0m         estimator_name\u001b[38;5;241m=\u001b[39mestimator_name,\n\u001b[0;32m    923\u001b[0m         allow_nan\u001b[38;5;241m=\u001b[39mforce_all_finite \u001b[38;5;241m==\u001b[39m \u001b[38;5;124m\"\u001b[39m\u001b[38;5;124mallow-nan\u001b[39m\u001b[38;5;124m\"\u001b[39m,\n\u001b[0;32m    924\u001b[0m     )\n",
      "\u001b[1;31mValueError\u001b[0m: Found array with dim 3. None expected <= 2."
     ]
    }
   ],
   "source": [
    "# make predictions\n",
    "trainPredict = model.predict(trainX)\n",
    "testPredict = model.predict(testX)\n",
    "# invert predictions\n",
    "trainPredict = scaler.inverse_transform(trainPredict)\n",
    "trainY = scaler.inverse_transform([trainY])\n",
    "testPredict = scaler.inverse_transform(testPredict)\n",
    "testY = scaler.inverse_transform([testY])\n",
    "# calculate root mean squared error\n",
    "trainScore = np.sqrt(mean_squared_error(trainY[0], trainPredict[:,0]))\n",
    "print('Train Score: %.2f RMSE' % (trainScore))\n",
    "testScore = np.sqrt(mean_squared_error(testY[0], testPredict[:,0]))\n",
    "print('Test Score: %.2f RMSE' % (testScore))"
   ]
  },
  {
   "cell_type": "code",
   "execution_count": 19,
   "metadata": {},
   "outputs": [
    {
     "data": {
      "image/png": "[encoded data removed]",
      "text/plain": [
       "<Figure size 640x480 with 1 Axes>"
      ]
     },
     "metadata": {},
     "output_type": "display_data"
    }
   ],
   "source": [
    "# shift train predictions for plotting\n",
    "trainPredictPlot = np.empty_like(dataset)\n",
    "trainPredictPlot[:, :] = np.nan\n",
    "trainPredictPlot[look_back:len(trainPredict)+look_back, :] = trainPredict\n",
    "# shift test predictions for plotting\n",
    "testPredictPlot = np.empty_like(dataset)\n",
    "testPredictPlot[:, :] = np.nan\n",
    "testPredictPlot[len(trainPredict)+(look_back*2)+1:len(dataset)-1, :] = testPredict\n",
    "# plot baseline and predictions\n",
    "plt.plot(scaler.inverse_transform(dataset))\n",
    "plt.plot(trainPredictPlot)\n",
    "plt.plot(testPredictPlot)\n",
    "plt.show()"
   ]
  }
 ],
 "metadata": {
  "kernelspec": {
   "display_name": "lipreadGPU",
   "language": "python",
   "name": "python3"
  },
  "language_info": {
   "codemirror_mode": {
    "name": "ipython",
    "version": 3
   },
   "file_extension": ".py",
   "mimetype": "text/x-python",
   "name": "python",
   "nbconvert_exporter": "python",
   "pygments_lexer": "ipython3",
   "version": "3.9.16"
  }
 },
 "nbformat": 4,
 "nbformat_minor": 2
}
