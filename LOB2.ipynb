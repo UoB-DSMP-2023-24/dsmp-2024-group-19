{
 "cells": [
  {
   "cell_type": "code",
   "execution_count": 1,
   "id": "b2d5b80e-f84b-4a01-b832-cf5e8556888e",
   "metadata": {},
   "outputs": [],
   "source": [
    "# importing modules\n",
    "import numpy as np\n",
    "import pandas as pd\n",
    "import ast"
   ]
  },
  {
   "cell_type": "code",
   "execution_count": 2,
   "id": "ec81c8f1-f624-4cec-b57e-b9dc4db368be",
   "metadata": {},
   "outputs": [],
   "source": [
    "filename = \"Data\\\\LOBs\\\\UoB_Set01_2025-01-02LOBs.txt\"\n",
    "with open(filename, 'r') as f:\n",
    "    file_data = f.readlines()"
   ]
  },
  {
   "cell_type": "code",
   "execution_count": 3,
   "id": "3314bb69-f839-467a-933b-9ff29bcb5f2d",
   "metadata": {},
   "outputs": [],
   "source": [
    "class LimitOrderBook:\n",
    "    def __init__(self, text_data):\n",
    "        self.data = text_data\n",
    "        self.time_step = 0\n",
    "        self.max_time_step = len(text_data)\n",
    "        self.update()\n",
    "\n",
    "    def update(self, update_time = True):\n",
    "        temp_str = self.data[self.time_step]\n",
    "        temp_str = temp_str.split(\",\")\n",
    "        exh = temp_str[1]\n",
    "        temp_str = ','.join([temp_str[0]]+temp_str[2:])\n",
    "        temp_str = ast.literal_eval(temp_str)\n",
    "\n",
    "        self.current_time = temp_str[0]\n",
    "        self.bids = temp_str[1][0][1]\n",
    "        self.asks = temp_str[1][1][1]\n",
    "\n",
    "        if update_time:\n",
    "            self.time_step += 1\n",
    "\n",
    "    def backtest(self, agent, verbose = False):\n",
    "        PnL = 0\n",
    "        stock_held = 0\n",
    "        self.time_step = 0\n",
    "        self.update(False)\n",
    "\n",
    "        while self.time_step < self.max_time_step:\n",
    "            print(f\"{self.time_step}/{self.max_time_step} | PnL = {PnL} | stock_held = {stock_held}\", end = \"\\r\")\n",
    "            given_data = (self.bids, self.asks)\n",
    "    \n",
    "            command = agent(given_data)\n",
    "    \n",
    "            if command:\n",
    "                if command[0] == \"buy\": # place buy order\n",
    "                    volume = command[1]\n",
    "                    price = command[2]\n",
    "    \n",
    "                    if len(self.asks) == 0:\n",
    "                        if verbose:\n",
    "                            print(\"0 ask orders cannot match buy\")\n",
    "                    else:\n",
    "                        lowest_ask = self.asks[0][0]\n",
    "                        if lowest_ask > price:\n",
    "                            if verbose:\n",
    "                                print(f\"Bid {price} too low, could not be matched with ask {lowest_ask}\")\n",
    "                        else:\n",
    "                            if verbose:\n",
    "                                print(f\"Bid {price} matched with ask {lowest_ask}\")\n",
    "                            stock_held += 1\n",
    "                            PnL -= lowest_ask\n",
    "                        \n",
    "                elif command[0] == \"sell\": # place sell order\n",
    "                    print(\"selling\")\n",
    "                    volume = command[1]\n",
    "                    price = command[2]\n",
    "    \n",
    "                    if len(self.bids) == 0:\n",
    "                        if verbose:\n",
    "                            print(\"0 bid orders cannot match sell\")\n",
    "                    elif stock_held <= 0:\n",
    "                        if verbose:\n",
    "                            print(\"0 stock held, nothing to sell\")\n",
    "                    else:\n",
    "                        highest_bid = self.bids[0][0]\n",
    "                        if highest_bid < price:\n",
    "                            if verbose:\n",
    "                                print(f\"Ask {price} too high, could not be matched with bid {highest_bid}\")\n",
    "                        else:\n",
    "                            if verbose:\n",
    "                                print(f\"Ask {price} matched with bid {highest_bid}\")\n",
    "                            stock_held -= 1\n",
    "                            PnL += highest_bid\n",
    "                \n",
    "                else:  # do nothing\n",
    "                    print(\"Invalid Command, nothing placed\")\n",
    "\n",
    "            self.update()\n",
    "\n",
    "        return PnL, stock_held\n",
    "\n",
    "    def __str__(self):\n",
    "        out = f\"Time: {self.current_time}\"\n",
    "        out += \"\\n\" + f\"\\tBids: {self.bids}\"\n",
    "        out += \"\\n\" + f\"\\tAsks: {self.asks}\"\n",
    "\n",
    "        return out\n",
    "\n",
    "def agent_random(data):\n",
    "    rnd = np.random.randint(0,5)\n",
    "\n",
    "    command = []\n",
    "    if rnd == 0:\n",
    "        command.append(\"buy\")\n",
    "    elif rnd == 1:\n",
    "        command.append(\"sell\")\n",
    "    else:\n",
    "        return None\n",
    "\n",
    "    vol = 1\n",
    "    price = np.random.randint(0,1000)\n",
    "    command.append(vol)\n",
    "    command.append(price)\n",
    "\n",
    "    return command"
   ]
  },
  {
   "cell_type": "code",
   "execution_count": 4,
   "id": "91713688-0dc8-4157-8bd5-a611eb854c80",
   "metadata": {},
   "outputs": [
    {
     "data": {
      "text/plain": [
       "['buy', 1, 201]"
      ]
     },
     "execution_count": 4,
     "metadata": {},
     "output_type": "execute_result"
    }
   ],
   "source": [
    "LOB = LimitOrderBook(file_data)\n",
    "agent = agent_random\n",
    "agent(0)"
   ]
  },
  {
   "cell_type": "code",
   "execution_count": null,
   "id": "2f12c4d6-dac8-4274-8f0d-466497f863e4",
   "metadata": {},
   "outputs": [
    {
     "name": "stdout",
     "output_type": "stream",
     "text": [
      "232617/352970 | PnL = -5972770 | stock_held = 20274\r"
     ]
    }
   ],
   "source": [
    "LOB.backtest(agent)"
   ]
  },
  {
   "cell_type": "code",
   "execution_count": null,
   "id": "d55004d6-7d7d-41da-a297-08430ed470a6",
   "metadata": {},
   "outputs": [],
   "source": []
  }
 ],
 "metadata": {
  "kernelspec": {
   "display_name": "Python 3 (ipykernel)",
   "language": "python",
   "name": "python3"
  },
  "language_info": {
   "codemirror_mode": {
    "name": "ipython",
    "version": 3
   },
   "file_extension": ".py",
   "mimetype": "text/x-python",
   "name": "python",
   "nbconvert_exporter": "python",
   "pygments_lexer": "ipython3",
   "version": "3.11.7"
  }
 },
 "nbformat": 4,
 "nbformat_minor": 5
}
