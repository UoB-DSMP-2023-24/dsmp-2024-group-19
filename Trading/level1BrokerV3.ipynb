{
 "cells": [
  {
   "cell_type": "code",
   "execution_count": 1,
   "metadata": {},
   "outputs": [
    {
     "name": "stdout",
     "output_type": "stream",
     "text": [
      "Working directory: c:\\Users\\wwden\\OneDrive\\Documents\\GitHub\\dsmp-2024-group-19\n"
     ]
    }
   ],
   "source": [
    "import os\n",
    "\n",
    "def move_to_parent_dir():\n",
    "    current_directory = os.getcwd()\n",
    "    parent_directory = os.path.dirname(current_directory)\n",
    "    os.chdir(parent_directory)\n",
    "    print(\"Working directory:\", os.getcwd())\n",
    "\n",
    "move_to_parent_dir() "
   ]
  },
  {
   "cell_type": "code",
   "execution_count": 2,
   "metadata": {},
   "outputs": [
    {
     "name": "stdout",
     "output_type": "stream",
     "text": [
      "Opening UoB_Set01_2025-01-02tapes.csv\n",
      "Opening UoB_Set01_2025-01-03tapes.csv\n",
      "Opening UoB_Set01_2025-01-06tapes.csv\n",
      "Opening UoB_Set01_2025-01-07tapes.csv\n",
      "Opening UoB_Set01_2025-01-08tapes.csv\n",
      "Opening UoB_Set01_2025-01-09tapes.csv\n",
      "Opening UoB_Set01_2025-01-10tapes.csv\n",
      "Opening UoB_Set01_2025-01-13tapes.csv\n",
      "Opening UoB_Set01_2025-01-14tapes.csv\n",
      "Opening UoB_Set01_2025-01-15tapes.csv\n",
      "Opening UoB_Set01_2025-01-16tapes.csv\n",
      "Opening UoB_Set01_2025-01-17tapes.csv\n",
      "Opening UoB_Set01_2025-01-20tapes.csv\n",
      "Opening UoB_Set01_2025-01-21tapes.csv\n",
      "Opening UoB_Set01_2025-01-22tapes.csv\n",
      "Opening UoB_Set01_2025-01-23tapes.csv\n",
      "Opening UoB_Set01_2025-01-24tapes.csv\n",
      "Opening UoB_Set01_2025-01-27tapes.csv\n",
      "Opening UoB_Set01_2025-01-28tapes.csv\n",
      "Opening UoB_Set01_2025-01-29tapes.csv\n",
      "Opening UoB_Set01_2025-01-30tapes.csv\n",
      "Opening UoB_Set01_2025-01-31tapes.csv\n",
      "Opening UoB_Set01_2025-02-03tapes.csv\n",
      "Opening UoB_Set01_2025-02-04tapes.csv\n",
      "Opening UoB_Set01_2025-02-05tapes.csv\n",
      "Opening UoB_Set01_2025-02-06tapes.csv\n",
      "Opening UoB_Set01_2025-02-07tapes.csv\n",
      "Opening UoB_Set01_2025-02-10tapes.csv\n",
      "Opening UoB_Set01_2025-02-11tapes.csv\n",
      "Opening UoB_Set01_2025-02-12tapes.csv\n",
      "Opening UoB_Set01_2025-02-13tapes.csv\n",
      "Opening UoB_Set01_2025-02-14tapes.csv\n",
      "Opening UoB_Set01_2025-02-17tapes.csv\n",
      "Opening UoB_Set01_2025-02-18tapes.csv\n",
      "Opening UoB_Set01_2025-02-19tapes.csv\n",
      "Opening UoB_Set01_2025-02-20tapes.csv\n",
      "Opening UoB_Set01_2025-02-21tapes.csv\n",
      "Opening UoB_Set01_2025-02-24tapes.csv\n",
      "Opening UoB_Set01_2025-02-25tapes.csv\n",
      "Opening UoB_Set01_2025-02-26tapes.csv\n",
      "Opening UoB_Set01_2025-02-27tapes.csv\n",
      "Opening UoB_Set01_2025-02-28tapes.csv\n",
      "Opening UoB_Set01_2025-03-03tapes.csv\n",
      "Opening UoB_Set01_2025-03-04tapes.csv\n",
      "Opening UoB_Set01_2025-03-05tapes.csv\n",
      "Opening UoB_Set01_2025-03-06tapes.csv\n",
      "Opening UoB_Set01_2025-03-07tapes.csv\n",
      "Opening UoB_Set01_2025-03-10tapes.csv\n",
      "Opening UoB_Set01_2025-03-11tapes.csv\n",
      "Opening UoB_Set01_2025-03-12tapes.csv\n",
      "Opening UoB_Set01_2025-03-13tapes.csv\n",
      "Opening UoB_Set01_2025-03-14tapes.csv\n",
      "Opening UoB_Set01_2025-03-17tapes.csv\n",
      "Opening UoB_Set01_2025-03-18tapes.csv\n",
      "Opening UoB_Set01_2025-03-19tapes.csv\n",
      "Opening UoB_Set01_2025-03-20tapes.csv\n",
      "Opening UoB_Set01_2025-03-21tapes.csv\n",
      "Opening UoB_Set01_2025-03-24tapes.csv\n",
      "Opening UoB_Set01_2025-03-25tapes.csv\n",
      "Opening UoB_Set01_2025-03-26tapes.csv\n",
      "Opening UoB_Set01_2025-03-27tapes.csv\n",
      "Opening UoB_Set01_2025-03-28tapes.csv\n",
      "Opening UoB_Set01_2025-03-31tapes.csv\n",
      "Opening UoB_Set01_2025-04-01tapes.csv\n",
      "Opening UoB_Set01_2025-04-02tapes.csv\n",
      "Opening UoB_Set01_2025-04-03tapes.csv\n",
      "Opening UoB_Set01_2025-04-04tapes.csv\n",
      "Opening UoB_Set01_2025-04-07tapes.csv\n",
      "Opening UoB_Set01_2025-04-08tapes.csv\n",
      "Opening UoB_Set01_2025-04-09tapes.csv\n",
      "Opening UoB_Set01_2025-04-10tapes.csv\n",
      "Opening UoB_Set01_2025-04-11tapes.csv\n",
      "Opening UoB_Set01_2025-04-14tapes.csv\n",
      "Opening UoB_Set01_2025-04-15tapes.csv\n",
      "Opening UoB_Set01_2025-04-16tapes.csv\n",
      "Opening UoB_Set01_2025-04-17tapes.csv\n",
      "Opening UoB_Set01_2025-04-22tapes.csv\n",
      "Opening UoB_Set01_2025-04-23tapes.csv\n",
      "Opening UoB_Set01_2025-04-24tapes.csv\n",
      "Opening UoB_Set01_2025-04-25tapes.csv\n",
      "Opening UoB_Set01_2025-04-28tapes.csv\n",
      "Opening UoB_Set01_2025-04-29tapes.csv\n",
      "Opening UoB_Set01_2025-04-30tapes.csv\n",
      "Opening UoB_Set01_2025-05-01tapes.csv\n",
      "Opening UoB_Set01_2025-05-02tapes.csv\n",
      "Opening UoB_Set01_2025-05-06tapes.csv\n",
      "Opening UoB_Set01_2025-05-07tapes.csv\n",
      "Opening UoB_Set01_2025-05-08tapes.csv\n",
      "Opening UoB_Set01_2025-05-09tapes.csv\n",
      "Opening UoB_Set01_2025-05-12tapes.csv\n",
      "Opening UoB_Set01_2025-05-13tapes.csv\n",
      "Opening UoB_Set01_2025-05-14tapes.csv\n",
      "Opening UoB_Set01_2025-05-15tapes.csv\n",
      "Opening UoB_Set01_2025-05-16tapes.csv\n",
      "Opening UoB_Set01_2025-05-19tapes.csv\n",
      "Opening UoB_Set01_2025-05-20tapes.csv\n",
      "Opening UoB_Set01_2025-05-21tapes.csv\n",
      "Opening UoB_Set01_2025-05-22tapes.csv\n",
      "Opening UoB_Set01_2025-05-23tapes.csv\n",
      "Opening UoB_Set01_2025-05-27tapes.csv\n",
      "Opening UoB_Set01_2025-05-28tapes.csv\n",
      "Opening UoB_Set01_2025-05-29tapes.csv\n",
      "Opening UoB_Set01_2025-05-30tapes.csv\n",
      "Opening UoB_Set01_2025-06-02tapes.csv\n",
      "Opening UoB_Set01_2025-06-03tapes.csv\n",
      "Opening UoB_Set01_2025-06-04tapes.csv\n",
      "Opening UoB_Set01_2025-06-05tapes.csv\n",
      "Opening UoB_Set01_2025-06-06tapes.csv\n",
      "Opening UoB_Set01_2025-06-09tapes.csv\n",
      "Opening UoB_Set01_2025-06-10tapes.csv\n",
      "Opening UoB_Set01_2025-06-11tapes.csv\n",
      "Opening UoB_Set01_2025-06-12tapes.csv\n",
      "Opening UoB_Set01_2025-06-13tapes.csv\n",
      "Opening UoB_Set01_2025-06-16tapes.csv\n",
      "Opening UoB_Set01_2025-06-17tapes.csv\n",
      "Opening UoB_Set01_2025-06-18tapes.csv\n",
      "Opening UoB_Set01_2025-06-19tapes.csv\n",
      "Opening UoB_Set01_2025-06-20tapes.csv\n",
      "Opening UoB_Set01_2025-06-23tapes.csv\n",
      "Opening UoB_Set01_2025-06-24tapes.csv\n",
      "Opening UoB_Set01_2025-06-25tapes.csv\n",
      "Opening UoB_Set01_2025-06-26tapes.csv\n",
      "Opening UoB_Set01_2025-06-27tapes.csv\n",
      "Opening UoB_Set01_2025-06-30tapes.csv\n",
      "Opening UoB_Set01_2025-07-01tapes.csv\n",
      "Opening UoB_Set01_2025-01-02tapes.csv\n"
     ]
    },
    {
     "name": "stderr",
     "output_type": "stream",
     "text": [
      "c:\\Users\\wwden\\OneDrive\\Documents\\GitHub\\dsmp-2024-group-19\\tools.py:218: FutureWarning: DataFrame.applymap has been deprecated. Use DataFrame.map instead.\n",
      "  df_bids_asks = df_bids_asks.applymap(lambda x: x[1:-1].replace(\",\",\"\") if isinstance(x, str) else \"\")\n"
     ]
    },
    {
     "name": "stdout",
     "output_type": "stream",
     "text": [
      "Opening UoB_Set01_2025-01-03tapes.csv\n"
     ]
    },
    {
     "name": "stderr",
     "output_type": "stream",
     "text": [
      "c:\\Users\\wwden\\OneDrive\\Documents\\GitHub\\dsmp-2024-group-19\\tools.py:218: FutureWarning: DataFrame.applymap has been deprecated. Use DataFrame.map instead.\n",
      "  df_bids_asks = df_bids_asks.applymap(lambda x: x[1:-1].replace(\",\",\"\") if isinstance(x, str) else \"\")\n"
     ]
    },
    {
     "name": "stdout",
     "output_type": "stream",
     "text": [
      "Opening UoB_Set01_2025-01-06tapes.csv\n"
     ]
    },
    {
     "name": "stderr",
     "output_type": "stream",
     "text": [
      "c:\\Users\\wwden\\OneDrive\\Documents\\GitHub\\dsmp-2024-group-19\\tools.py:218: FutureWarning: DataFrame.applymap has been deprecated. Use DataFrame.map instead.\n",
      "  df_bids_asks = df_bids_asks.applymap(lambda x: x[1:-1].replace(\",\",\"\") if isinstance(x, str) else \"\")\n"
     ]
    },
    {
     "name": "stdout",
     "output_type": "stream",
     "text": [
      "Opening UoB_Set01_2025-01-07tapes.csv\n"
     ]
    },
    {
     "name": "stderr",
     "output_type": "stream",
     "text": [
      "c:\\Users\\wwden\\OneDrive\\Documents\\GitHub\\dsmp-2024-group-19\\tools.py:218: FutureWarning: DataFrame.applymap has been deprecated. Use DataFrame.map instead.\n",
      "  df_bids_asks = df_bids_asks.applymap(lambda x: x[1:-1].replace(\",\",\"\") if isinstance(x, str) else \"\")\n"
     ]
    },
    {
     "name": "stdout",
     "output_type": "stream",
     "text": [
      "Opening UoB_Set01_2025-01-08tapes.csv\n"
     ]
    },
    {
     "name": "stderr",
     "output_type": "stream",
     "text": [
      "c:\\Users\\wwden\\OneDrive\\Documents\\GitHub\\dsmp-2024-group-19\\tools.py:218: FutureWarning: DataFrame.applymap has been deprecated. Use DataFrame.map instead.\n",
      "  df_bids_asks = df_bids_asks.applymap(lambda x: x[1:-1].replace(\",\",\"\") if isinstance(x, str) else \"\")\n"
     ]
    },
    {
     "name": "stdout",
     "output_type": "stream",
     "text": [
      "Opening UoB_Set01_2025-01-09tapes.csv\n"
     ]
    },
    {
     "name": "stderr",
     "output_type": "stream",
     "text": [
      "c:\\Users\\wwden\\OneDrive\\Documents\\GitHub\\dsmp-2024-group-19\\tools.py:218: FutureWarning: DataFrame.applymap has been deprecated. Use DataFrame.map instead.\n",
      "  df_bids_asks = df_bids_asks.applymap(lambda x: x[1:-1].replace(\",\",\"\") if isinstance(x, str) else \"\")\n"
     ]
    },
    {
     "name": "stdout",
     "output_type": "stream",
     "text": [
      "Opening UoB_Set01_2025-01-10tapes.csv\n"
     ]
    },
    {
     "name": "stderr",
     "output_type": "stream",
     "text": [
      "c:\\Users\\wwden\\OneDrive\\Documents\\GitHub\\dsmp-2024-group-19\\tools.py:218: FutureWarning: DataFrame.applymap has been deprecated. Use DataFrame.map instead.\n",
      "  df_bids_asks = df_bids_asks.applymap(lambda x: x[1:-1].replace(\",\",\"\") if isinstance(x, str) else \"\")\n"
     ]
    },
    {
     "name": "stdout",
     "output_type": "stream",
     "text": [
      "Opening UoB_Set01_2025-01-13tapes.csv\n"
     ]
    },
    {
     "name": "stderr",
     "output_type": "stream",
     "text": [
      "c:\\Users\\wwden\\OneDrive\\Documents\\GitHub\\dsmp-2024-group-19\\tools.py:218: FutureWarning: DataFrame.applymap has been deprecated. Use DataFrame.map instead.\n",
      "  df_bids_asks = df_bids_asks.applymap(lambda x: x[1:-1].replace(\",\",\"\") if isinstance(x, str) else \"\")\n"
     ]
    },
    {
     "name": "stdout",
     "output_type": "stream",
     "text": [
      "Opening UoB_Set01_2025-01-14tapes.csv\n"
     ]
    },
    {
     "name": "stderr",
     "output_type": "stream",
     "text": [
      "c:\\Users\\wwden\\OneDrive\\Documents\\GitHub\\dsmp-2024-group-19\\tools.py:218: FutureWarning: DataFrame.applymap has been deprecated. Use DataFrame.map instead.\n",
      "  df_bids_asks = df_bids_asks.applymap(lambda x: x[1:-1].replace(\",\",\"\") if isinstance(x, str) else \"\")\n"
     ]
    },
    {
     "name": "stdout",
     "output_type": "stream",
     "text": [
      "Opening UoB_Set01_2025-01-15tapes.csv\n"
     ]
    },
    {
     "name": "stderr",
     "output_type": "stream",
     "text": [
      "c:\\Users\\wwden\\OneDrive\\Documents\\GitHub\\dsmp-2024-group-19\\tools.py:218: FutureWarning: DataFrame.applymap has been deprecated. Use DataFrame.map instead.\n",
      "  df_bids_asks = df_bids_asks.applymap(lambda x: x[1:-1].replace(\",\",\"\") if isinstance(x, str) else \"\")\n"
     ]
    },
    {
     "name": "stdout",
     "output_type": "stream",
     "text": [
      "Opening UoB_Set01_2025-01-16tapes.csv\n"
     ]
    },
    {
     "name": "stderr",
     "output_type": "stream",
     "text": [
      "c:\\Users\\wwden\\OneDrive\\Documents\\GitHub\\dsmp-2024-group-19\\tools.py:218: FutureWarning: DataFrame.applymap has been deprecated. Use DataFrame.map instead.\n",
      "  df_bids_asks = df_bids_asks.applymap(lambda x: x[1:-1].replace(\",\",\"\") if isinstance(x, str) else \"\")\n"
     ]
    },
    {
     "name": "stdout",
     "output_type": "stream",
     "text": [
      "Opening UoB_Set01_2025-01-17tapes.csv\n"
     ]
    },
    {
     "name": "stderr",
     "output_type": "stream",
     "text": [
      "c:\\Users\\wwden\\OneDrive\\Documents\\GitHub\\dsmp-2024-group-19\\tools.py:218: FutureWarning: DataFrame.applymap has been deprecated. Use DataFrame.map instead.\n",
      "  df_bids_asks = df_bids_asks.applymap(lambda x: x[1:-1].replace(\",\",\"\") if isinstance(x, str) else \"\")\n"
     ]
    },
    {
     "name": "stdout",
     "output_type": "stream",
     "text": [
      "Opening UoB_Set01_2025-01-20tapes.csv\n"
     ]
    },
    {
     "name": "stderr",
     "output_type": "stream",
     "text": [
      "c:\\Users\\wwden\\OneDrive\\Documents\\GitHub\\dsmp-2024-group-19\\tools.py:218: FutureWarning: DataFrame.applymap has been deprecated. Use DataFrame.map instead.\n",
      "  df_bids_asks = df_bids_asks.applymap(lambda x: x[1:-1].replace(\",\",\"\") if isinstance(x, str) else \"\")\n"
     ]
    },
    {
     "name": "stdout",
     "output_type": "stream",
     "text": [
      "Opening UoB_Set01_2025-01-21tapes.csv\n"
     ]
    },
    {
     "name": "stderr",
     "output_type": "stream",
     "text": [
      "c:\\Users\\wwden\\OneDrive\\Documents\\GitHub\\dsmp-2024-group-19\\tools.py:218: FutureWarning: DataFrame.applymap has been deprecated. Use DataFrame.map instead.\n",
      "  df_bids_asks = df_bids_asks.applymap(lambda x: x[1:-1].replace(\",\",\"\") if isinstance(x, str) else \"\")\n"
     ]
    },
    {
     "name": "stdout",
     "output_type": "stream",
     "text": [
      "Opening UoB_Set01_2025-01-22tapes.csv\n"
     ]
    },
    {
     "name": "stderr",
     "output_type": "stream",
     "text": [
      "c:\\Users\\wwden\\OneDrive\\Documents\\GitHub\\dsmp-2024-group-19\\tools.py:218: FutureWarning: DataFrame.applymap has been deprecated. Use DataFrame.map instead.\n",
      "  df_bids_asks = df_bids_asks.applymap(lambda x: x[1:-1].replace(\",\",\"\") if isinstance(x, str) else \"\")\n"
     ]
    },
    {
     "name": "stdout",
     "output_type": "stream",
     "text": [
      "Opening UoB_Set01_2025-01-23tapes.csv\n"
     ]
    },
    {
     "name": "stderr",
     "output_type": "stream",
     "text": [
      "c:\\Users\\wwden\\OneDrive\\Documents\\GitHub\\dsmp-2024-group-19\\tools.py:218: FutureWarning: DataFrame.applymap has been deprecated. Use DataFrame.map instead.\n",
      "  df_bids_asks = df_bids_asks.applymap(lambda x: x[1:-1].replace(\",\",\"\") if isinstance(x, str) else \"\")\n"
     ]
    },
    {
     "name": "stdout",
     "output_type": "stream",
     "text": [
      "Opening UoB_Set01_2025-01-24tapes.csv\n"
     ]
    },
    {
     "name": "stderr",
     "output_type": "stream",
     "text": [
      "c:\\Users\\wwden\\OneDrive\\Documents\\GitHub\\dsmp-2024-group-19\\tools.py:218: FutureWarning: DataFrame.applymap has been deprecated. Use DataFrame.map instead.\n",
      "  df_bids_asks = df_bids_asks.applymap(lambda x: x[1:-1].replace(\",\",\"\") if isinstance(x, str) else \"\")\n"
     ]
    },
    {
     "name": "stdout",
     "output_type": "stream",
     "text": [
      "Opening UoB_Set01_2025-01-27tapes.csv\n"
     ]
    },
    {
     "name": "stderr",
     "output_type": "stream",
     "text": [
      "c:\\Users\\wwden\\OneDrive\\Documents\\GitHub\\dsmp-2024-group-19\\tools.py:218: FutureWarning: DataFrame.applymap has been deprecated. Use DataFrame.map instead.\n",
      "  df_bids_asks = df_bids_asks.applymap(lambda x: x[1:-1].replace(\",\",\"\") if isinstance(x, str) else \"\")\n"
     ]
    },
    {
     "name": "stdout",
     "output_type": "stream",
     "text": [
      "Opening UoB_Set01_2025-01-28tapes.csv\n"
     ]
    },
    {
     "name": "stderr",
     "output_type": "stream",
     "text": [
      "c:\\Users\\wwden\\OneDrive\\Documents\\GitHub\\dsmp-2024-group-19\\tools.py:218: FutureWarning: DataFrame.applymap has been deprecated. Use DataFrame.map instead.\n",
      "  df_bids_asks = df_bids_asks.applymap(lambda x: x[1:-1].replace(\",\",\"\") if isinstance(x, str) else \"\")\n"
     ]
    },
    {
     "name": "stdout",
     "output_type": "stream",
     "text": [
      "Opening UoB_Set01_2025-01-29tapes.csv\n"
     ]
    },
    {
     "name": "stderr",
     "output_type": "stream",
     "text": [
      "c:\\Users\\wwden\\OneDrive\\Documents\\GitHub\\dsmp-2024-group-19\\tools.py:218: FutureWarning: DataFrame.applymap has been deprecated. Use DataFrame.map instead.\n",
      "  df_bids_asks = df_bids_asks.applymap(lambda x: x[1:-1].replace(\",\",\"\") if isinstance(x, str) else \"\")\n"
     ]
    },
    {
     "name": "stdout",
     "output_type": "stream",
     "text": [
      "Opening UoB_Set01_2025-01-30tapes.csv\n"
     ]
    },
    {
     "name": "stderr",
     "output_type": "stream",
     "text": [
      "c:\\Users\\wwden\\OneDrive\\Documents\\GitHub\\dsmp-2024-group-19\\tools.py:218: FutureWarning: DataFrame.applymap has been deprecated. Use DataFrame.map instead.\n",
      "  df_bids_asks = df_bids_asks.applymap(lambda x: x[1:-1].replace(\",\",\"\") if isinstance(x, str) else \"\")\n"
     ]
    },
    {
     "name": "stdout",
     "output_type": "stream",
     "text": [
      "Opening UoB_Set01_2025-01-31tapes.csv\n"
     ]
    },
    {
     "name": "stderr",
     "output_type": "stream",
     "text": [
      "c:\\Users\\wwden\\OneDrive\\Documents\\GitHub\\dsmp-2024-group-19\\tools.py:218: FutureWarning: DataFrame.applymap has been deprecated. Use DataFrame.map instead.\n",
      "  df_bids_asks = df_bids_asks.applymap(lambda x: x[1:-1].replace(\",\",\"\") if isinstance(x, str) else \"\")\n"
     ]
    },
    {
     "name": "stdout",
     "output_type": "stream",
     "text": [
      "Opening UoB_Set01_2025-02-03tapes.csv\n"
     ]
    },
    {
     "name": "stderr",
     "output_type": "stream",
     "text": [
      "c:\\Users\\wwden\\OneDrive\\Documents\\GitHub\\dsmp-2024-group-19\\tools.py:218: FutureWarning: DataFrame.applymap has been deprecated. Use DataFrame.map instead.\n",
      "  df_bids_asks = df_bids_asks.applymap(lambda x: x[1:-1].replace(\",\",\"\") if isinstance(x, str) else \"\")\n"
     ]
    },
    {
     "name": "stdout",
     "output_type": "stream",
     "text": [
      "Opening UoB_Set01_2025-02-04tapes.csv\n"
     ]
    },
    {
     "name": "stderr",
     "output_type": "stream",
     "text": [
      "c:\\Users\\wwden\\OneDrive\\Documents\\GitHub\\dsmp-2024-group-19\\tools.py:218: FutureWarning: DataFrame.applymap has been deprecated. Use DataFrame.map instead.\n",
      "  df_bids_asks = df_bids_asks.applymap(lambda x: x[1:-1].replace(\",\",\"\") if isinstance(x, str) else \"\")\n"
     ]
    },
    {
     "name": "stdout",
     "output_type": "stream",
     "text": [
      "Opening UoB_Set01_2025-02-05tapes.csv\n"
     ]
    },
    {
     "name": "stderr",
     "output_type": "stream",
     "text": [
      "c:\\Users\\wwden\\OneDrive\\Documents\\GitHub\\dsmp-2024-group-19\\tools.py:218: FutureWarning: DataFrame.applymap has been deprecated. Use DataFrame.map instead.\n",
      "  df_bids_asks = df_bids_asks.applymap(lambda x: x[1:-1].replace(\",\",\"\") if isinstance(x, str) else \"\")\n"
     ]
    },
    {
     "name": "stdout",
     "output_type": "stream",
     "text": [
      "Opening UoB_Set01_2025-02-06tapes.csv\n"
     ]
    },
    {
     "name": "stderr",
     "output_type": "stream",
     "text": [
      "c:\\Users\\wwden\\OneDrive\\Documents\\GitHub\\dsmp-2024-group-19\\tools.py:218: FutureWarning: DataFrame.applymap has been deprecated. Use DataFrame.map instead.\n",
      "  df_bids_asks = df_bids_asks.applymap(lambda x: x[1:-1].replace(\",\",\"\") if isinstance(x, str) else \"\")\n"
     ]
    },
    {
     "name": "stdout",
     "output_type": "stream",
     "text": [
      "Opening UoB_Set01_2025-02-07tapes.csv\n"
     ]
    },
    {
     "name": "stderr",
     "output_type": "stream",
     "text": [
      "c:\\Users\\wwden\\OneDrive\\Documents\\GitHub\\dsmp-2024-group-19\\tools.py:218: FutureWarning: DataFrame.applymap has been deprecated. Use DataFrame.map instead.\n",
      "  df_bids_asks = df_bids_asks.applymap(lambda x: x[1:-1].replace(\",\",\"\") if isinstance(x, str) else \"\")\n"
     ]
    },
    {
     "name": "stdout",
     "output_type": "stream",
     "text": [
      "Opening UoB_Set01_2025-02-10tapes.csv\n"
     ]
    },
    {
     "name": "stderr",
     "output_type": "stream",
     "text": [
      "c:\\Users\\wwden\\OneDrive\\Documents\\GitHub\\dsmp-2024-group-19\\tools.py:218: FutureWarning: DataFrame.applymap has been deprecated. Use DataFrame.map instead.\n",
      "  df_bids_asks = df_bids_asks.applymap(lambda x: x[1:-1].replace(\",\",\"\") if isinstance(x, str) else \"\")\n"
     ]
    },
    {
     "name": "stdout",
     "output_type": "stream",
     "text": [
      "Opening UoB_Set01_2025-02-11tapes.csv\n"
     ]
    },
    {
     "name": "stderr",
     "output_type": "stream",
     "text": [
      "c:\\Users\\wwden\\OneDrive\\Documents\\GitHub\\dsmp-2024-group-19\\tools.py:218: FutureWarning: DataFrame.applymap has been deprecated. Use DataFrame.map instead.\n",
      "  df_bids_asks = df_bids_asks.applymap(lambda x: x[1:-1].replace(\",\",\"\") if isinstance(x, str) else \"\")\n"
     ]
    },
    {
     "name": "stdout",
     "output_type": "stream",
     "text": [
      "Opening UoB_Set01_2025-02-12tapes.csv\n"
     ]
    },
    {
     "name": "stderr",
     "output_type": "stream",
     "text": [
      "c:\\Users\\wwden\\OneDrive\\Documents\\GitHub\\dsmp-2024-group-19\\tools.py:218: FutureWarning: DataFrame.applymap has been deprecated. Use DataFrame.map instead.\n",
      "  df_bids_asks = df_bids_asks.applymap(lambda x: x[1:-1].replace(\",\",\"\") if isinstance(x, str) else \"\")\n"
     ]
    },
    {
     "name": "stdout",
     "output_type": "stream",
     "text": [
      "Opening UoB_Set01_2025-02-13tapes.csv\n"
     ]
    },
    {
     "name": "stderr",
     "output_type": "stream",
     "text": [
      "c:\\Users\\wwden\\OneDrive\\Documents\\GitHub\\dsmp-2024-group-19\\tools.py:218: FutureWarning: DataFrame.applymap has been deprecated. Use DataFrame.map instead.\n",
      "  df_bids_asks = df_bids_asks.applymap(lambda x: x[1:-1].replace(\",\",\"\") if isinstance(x, str) else \"\")\n"
     ]
    },
    {
     "name": "stdout",
     "output_type": "stream",
     "text": [
      "Opening UoB_Set01_2025-02-14tapes.csv\n"
     ]
    },
    {
     "name": "stderr",
     "output_type": "stream",
     "text": [
      "c:\\Users\\wwden\\OneDrive\\Documents\\GitHub\\dsmp-2024-group-19\\tools.py:218: FutureWarning: DataFrame.applymap has been deprecated. Use DataFrame.map instead.\n",
      "  df_bids_asks = df_bids_asks.applymap(lambda x: x[1:-1].replace(\",\",\"\") if isinstance(x, str) else \"\")\n"
     ]
    },
    {
     "name": "stdout",
     "output_type": "stream",
     "text": [
      "Opening UoB_Set01_2025-02-17tapes.csv\n"
     ]
    },
    {
     "name": "stderr",
     "output_type": "stream",
     "text": [
      "c:\\Users\\wwden\\OneDrive\\Documents\\GitHub\\dsmp-2024-group-19\\tools.py:218: FutureWarning: DataFrame.applymap has been deprecated. Use DataFrame.map instead.\n",
      "  df_bids_asks = df_bids_asks.applymap(lambda x: x[1:-1].replace(\",\",\"\") if isinstance(x, str) else \"\")\n"
     ]
    },
    {
     "name": "stdout",
     "output_type": "stream",
     "text": [
      "Opening UoB_Set01_2025-02-18tapes.csv\n"
     ]
    },
    {
     "name": "stderr",
     "output_type": "stream",
     "text": [
      "c:\\Users\\wwden\\OneDrive\\Documents\\GitHub\\dsmp-2024-group-19\\tools.py:218: FutureWarning: DataFrame.applymap has been deprecated. Use DataFrame.map instead.\n",
      "  df_bids_asks = df_bids_asks.applymap(lambda x: x[1:-1].replace(\",\",\"\") if isinstance(x, str) else \"\")\n"
     ]
    },
    {
     "name": "stdout",
     "output_type": "stream",
     "text": [
      "Opening UoB_Set01_2025-02-19tapes.csv\n"
     ]
    },
    {
     "name": "stderr",
     "output_type": "stream",
     "text": [
      "c:\\Users\\wwden\\OneDrive\\Documents\\GitHub\\dsmp-2024-group-19\\tools.py:218: FutureWarning: DataFrame.applymap has been deprecated. Use DataFrame.map instead.\n",
      "  df_bids_asks = df_bids_asks.applymap(lambda x: x[1:-1].replace(\",\",\"\") if isinstance(x, str) else \"\")\n"
     ]
    },
    {
     "name": "stdout",
     "output_type": "stream",
     "text": [
      "Opening UoB_Set01_2025-02-20tapes.csv\n"
     ]
    },
    {
     "name": "stderr",
     "output_type": "stream",
     "text": [
      "c:\\Users\\wwden\\OneDrive\\Documents\\GitHub\\dsmp-2024-group-19\\tools.py:218: FutureWarning: DataFrame.applymap has been deprecated. Use DataFrame.map instead.\n",
      "  df_bids_asks = df_bids_asks.applymap(lambda x: x[1:-1].replace(\",\",\"\") if isinstance(x, str) else \"\")\n"
     ]
    },
    {
     "name": "stdout",
     "output_type": "stream",
     "text": [
      "Opening UoB_Set01_2025-02-21tapes.csv\n"
     ]
    },
    {
     "name": "stderr",
     "output_type": "stream",
     "text": [
      "c:\\Users\\wwden\\OneDrive\\Documents\\GitHub\\dsmp-2024-group-19\\tools.py:218: FutureWarning: DataFrame.applymap has been deprecated. Use DataFrame.map instead.\n",
      "  df_bids_asks = df_bids_asks.applymap(lambda x: x[1:-1].replace(\",\",\"\") if isinstance(x, str) else \"\")\n"
     ]
    },
    {
     "name": "stdout",
     "output_type": "stream",
     "text": [
      "Opening UoB_Set01_2025-02-24tapes.csv\n"
     ]
    },
    {
     "name": "stderr",
     "output_type": "stream",
     "text": [
      "c:\\Users\\wwden\\OneDrive\\Documents\\GitHub\\dsmp-2024-group-19\\tools.py:218: FutureWarning: DataFrame.applymap has been deprecated. Use DataFrame.map instead.\n",
      "  df_bids_asks = df_bids_asks.applymap(lambda x: x[1:-1].replace(\",\",\"\") if isinstance(x, str) else \"\")\n"
     ]
    },
    {
     "name": "stdout",
     "output_type": "stream",
     "text": [
      "Opening UoB_Set01_2025-02-25tapes.csv\n"
     ]
    },
    {
     "name": "stderr",
     "output_type": "stream",
     "text": [
      "c:\\Users\\wwden\\OneDrive\\Documents\\GitHub\\dsmp-2024-group-19\\tools.py:218: FutureWarning: DataFrame.applymap has been deprecated. Use DataFrame.map instead.\n",
      "  df_bids_asks = df_bids_asks.applymap(lambda x: x[1:-1].replace(\",\",\"\") if isinstance(x, str) else \"\")\n"
     ]
    },
    {
     "name": "stdout",
     "output_type": "stream",
     "text": [
      "Opening UoB_Set01_2025-02-26tapes.csv\n"
     ]
    },
    {
     "name": "stderr",
     "output_type": "stream",
     "text": [
      "c:\\Users\\wwden\\OneDrive\\Documents\\GitHub\\dsmp-2024-group-19\\tools.py:218: FutureWarning: DataFrame.applymap has been deprecated. Use DataFrame.map instead.\n",
      "  df_bids_asks = df_bids_asks.applymap(lambda x: x[1:-1].replace(\",\",\"\") if isinstance(x, str) else \"\")\n"
     ]
    },
    {
     "name": "stdout",
     "output_type": "stream",
     "text": [
      "Opening UoB_Set01_2025-02-27tapes.csv\n"
     ]
    },
    {
     "name": "stderr",
     "output_type": "stream",
     "text": [
      "c:\\Users\\wwden\\OneDrive\\Documents\\GitHub\\dsmp-2024-group-19\\tools.py:218: FutureWarning: DataFrame.applymap has been deprecated. Use DataFrame.map instead.\n",
      "  df_bids_asks = df_bids_asks.applymap(lambda x: x[1:-1].replace(\",\",\"\") if isinstance(x, str) else \"\")\n"
     ]
    },
    {
     "name": "stdout",
     "output_type": "stream",
     "text": [
      "Opening UoB_Set01_2025-02-28tapes.csv\n"
     ]
    },
    {
     "name": "stderr",
     "output_type": "stream",
     "text": [
      "c:\\Users\\wwden\\OneDrive\\Documents\\GitHub\\dsmp-2024-group-19\\tools.py:218: FutureWarning: DataFrame.applymap has been deprecated. Use DataFrame.map instead.\n",
      "  df_bids_asks = df_bids_asks.applymap(lambda x: x[1:-1].replace(\",\",\"\") if isinstance(x, str) else \"\")\n"
     ]
    },
    {
     "name": "stdout",
     "output_type": "stream",
     "text": [
      "Opening UoB_Set01_2025-03-03tapes.csv\n"
     ]
    },
    {
     "name": "stderr",
     "output_type": "stream",
     "text": [
      "c:\\Users\\wwden\\OneDrive\\Documents\\GitHub\\dsmp-2024-group-19\\tools.py:218: FutureWarning: DataFrame.applymap has been deprecated. Use DataFrame.map instead.\n",
      "  df_bids_asks = df_bids_asks.applymap(lambda x: x[1:-1].replace(\",\",\"\") if isinstance(x, str) else \"\")\n"
     ]
    },
    {
     "name": "stdout",
     "output_type": "stream",
     "text": [
      "Opening UoB_Set01_2025-03-04tapes.csv\n"
     ]
    },
    {
     "name": "stderr",
     "output_type": "stream",
     "text": [
      "c:\\Users\\wwden\\OneDrive\\Documents\\GitHub\\dsmp-2024-group-19\\tools.py:218: FutureWarning: DataFrame.applymap has been deprecated. Use DataFrame.map instead.\n",
      "  df_bids_asks = df_bids_asks.applymap(lambda x: x[1:-1].replace(\",\",\"\") if isinstance(x, str) else \"\")\n"
     ]
    },
    {
     "name": "stdout",
     "output_type": "stream",
     "text": [
      "Opening UoB_Set01_2025-03-05tapes.csv\n"
     ]
    },
    {
     "name": "stderr",
     "output_type": "stream",
     "text": [
      "c:\\Users\\wwden\\OneDrive\\Documents\\GitHub\\dsmp-2024-group-19\\tools.py:218: FutureWarning: DataFrame.applymap has been deprecated. Use DataFrame.map instead.\n",
      "  df_bids_asks = df_bids_asks.applymap(lambda x: x[1:-1].replace(\",\",\"\") if isinstance(x, str) else \"\")\n"
     ]
    },
    {
     "name": "stdout",
     "output_type": "stream",
     "text": [
      "Opening UoB_Set01_2025-03-06tapes.csv\n"
     ]
    },
    {
     "name": "stderr",
     "output_type": "stream",
     "text": [
      "c:\\Users\\wwden\\OneDrive\\Documents\\GitHub\\dsmp-2024-group-19\\tools.py:218: FutureWarning: DataFrame.applymap has been deprecated. Use DataFrame.map instead.\n",
      "  df_bids_asks = df_bids_asks.applymap(lambda x: x[1:-1].replace(\",\",\"\") if isinstance(x, str) else \"\")\n"
     ]
    },
    {
     "name": "stdout",
     "output_type": "stream",
     "text": [
      "Opening UoB_Set01_2025-03-07tapes.csv\n"
     ]
    },
    {
     "name": "stderr",
     "output_type": "stream",
     "text": [
      "c:\\Users\\wwden\\OneDrive\\Documents\\GitHub\\dsmp-2024-group-19\\tools.py:218: FutureWarning: DataFrame.applymap has been deprecated. Use DataFrame.map instead.\n",
      "  df_bids_asks = df_bids_asks.applymap(lambda x: x[1:-1].replace(\",\",\"\") if isinstance(x, str) else \"\")\n"
     ]
    },
    {
     "name": "stdout",
     "output_type": "stream",
     "text": [
      "Opening UoB_Set01_2025-03-10tapes.csv\n"
     ]
    },
    {
     "name": "stderr",
     "output_type": "stream",
     "text": [
      "c:\\Users\\wwden\\OneDrive\\Documents\\GitHub\\dsmp-2024-group-19\\tools.py:218: FutureWarning: DataFrame.applymap has been deprecated. Use DataFrame.map instead.\n",
      "  df_bids_asks = df_bids_asks.applymap(lambda x: x[1:-1].replace(\",\",\"\") if isinstance(x, str) else \"\")\n"
     ]
    },
    {
     "name": "stdout",
     "output_type": "stream",
     "text": [
      "Opening UoB_Set01_2025-03-11tapes.csv\n"
     ]
    },
    {
     "name": "stderr",
     "output_type": "stream",
     "text": [
      "c:\\Users\\wwden\\OneDrive\\Documents\\GitHub\\dsmp-2024-group-19\\tools.py:218: FutureWarning: DataFrame.applymap has been deprecated. Use DataFrame.map instead.\n",
      "  df_bids_asks = df_bids_asks.applymap(lambda x: x[1:-1].replace(\",\",\"\") if isinstance(x, str) else \"\")\n"
     ]
    },
    {
     "name": "stdout",
     "output_type": "stream",
     "text": [
      "Opening UoB_Set01_2025-03-12tapes.csv\n"
     ]
    },
    {
     "name": "stderr",
     "output_type": "stream",
     "text": [
      "c:\\Users\\wwden\\OneDrive\\Documents\\GitHub\\dsmp-2024-group-19\\tools.py:218: FutureWarning: DataFrame.applymap has been deprecated. Use DataFrame.map instead.\n",
      "  df_bids_asks = df_bids_asks.applymap(lambda x: x[1:-1].replace(\",\",\"\") if isinstance(x, str) else \"\")\n"
     ]
    },
    {
     "name": "stdout",
     "output_type": "stream",
     "text": [
      "Opening UoB_Set01_2025-03-13tapes.csv\n"
     ]
    },
    {
     "name": "stderr",
     "output_type": "stream",
     "text": [
      "c:\\Users\\wwden\\OneDrive\\Documents\\GitHub\\dsmp-2024-group-19\\tools.py:218: FutureWarning: DataFrame.applymap has been deprecated. Use DataFrame.map instead.\n",
      "  df_bids_asks = df_bids_asks.applymap(lambda x: x[1:-1].replace(\",\",\"\") if isinstance(x, str) else \"\")\n"
     ]
    },
    {
     "name": "stdout",
     "output_type": "stream",
     "text": [
      "Opening UoB_Set01_2025-03-14tapes.csv\n"
     ]
    },
    {
     "name": "stderr",
     "output_type": "stream",
     "text": [
      "c:\\Users\\wwden\\OneDrive\\Documents\\GitHub\\dsmp-2024-group-19\\tools.py:218: FutureWarning: DataFrame.applymap has been deprecated. Use DataFrame.map instead.\n",
      "  df_bids_asks = df_bids_asks.applymap(lambda x: x[1:-1].replace(\",\",\"\") if isinstance(x, str) else \"\")\n"
     ]
    },
    {
     "name": "stdout",
     "output_type": "stream",
     "text": [
      "Opening UoB_Set01_2025-03-17tapes.csv\n"
     ]
    },
    {
     "name": "stderr",
     "output_type": "stream",
     "text": [
      "c:\\Users\\wwden\\OneDrive\\Documents\\GitHub\\dsmp-2024-group-19\\tools.py:218: FutureWarning: DataFrame.applymap has been deprecated. Use DataFrame.map instead.\n",
      "  df_bids_asks = df_bids_asks.applymap(lambda x: x[1:-1].replace(\",\",\"\") if isinstance(x, str) else \"\")\n"
     ]
    },
    {
     "name": "stdout",
     "output_type": "stream",
     "text": [
      "Opening UoB_Set01_2025-03-18tapes.csv\n"
     ]
    },
    {
     "name": "stderr",
     "output_type": "stream",
     "text": [
      "c:\\Users\\wwden\\OneDrive\\Documents\\GitHub\\dsmp-2024-group-19\\tools.py:218: FutureWarning: DataFrame.applymap has been deprecated. Use DataFrame.map instead.\n",
      "  df_bids_asks = df_bids_asks.applymap(lambda x: x[1:-1].replace(\",\",\"\") if isinstance(x, str) else \"\")\n"
     ]
    },
    {
     "name": "stdout",
     "output_type": "stream",
     "text": [
      "Opening UoB_Set01_2025-03-19tapes.csv\n"
     ]
    },
    {
     "name": "stderr",
     "output_type": "stream",
     "text": [
      "c:\\Users\\wwden\\OneDrive\\Documents\\GitHub\\dsmp-2024-group-19\\tools.py:218: FutureWarning: DataFrame.applymap has been deprecated. Use DataFrame.map instead.\n",
      "  df_bids_asks = df_bids_asks.applymap(lambda x: x[1:-1].replace(\",\",\"\") if isinstance(x, str) else \"\")\n"
     ]
    },
    {
     "name": "stdout",
     "output_type": "stream",
     "text": [
      "Opening UoB_Set01_2025-03-20tapes.csv\n"
     ]
    },
    {
     "name": "stderr",
     "output_type": "stream",
     "text": [
      "c:\\Users\\wwden\\OneDrive\\Documents\\GitHub\\dsmp-2024-group-19\\tools.py:218: FutureWarning: DataFrame.applymap has been deprecated. Use DataFrame.map instead.\n",
      "  df_bids_asks = df_bids_asks.applymap(lambda x: x[1:-1].replace(\",\",\"\") if isinstance(x, str) else \"\")\n"
     ]
    },
    {
     "name": "stdout",
     "output_type": "stream",
     "text": [
      "Opening UoB_Set01_2025-03-21tapes.csv\n"
     ]
    },
    {
     "name": "stderr",
     "output_type": "stream",
     "text": [
      "c:\\Users\\wwden\\OneDrive\\Documents\\GitHub\\dsmp-2024-group-19\\tools.py:218: FutureWarning: DataFrame.applymap has been deprecated. Use DataFrame.map instead.\n",
      "  df_bids_asks = df_bids_asks.applymap(lambda x: x[1:-1].replace(\",\",\"\") if isinstance(x, str) else \"\")\n"
     ]
    },
    {
     "name": "stdout",
     "output_type": "stream",
     "text": [
      "Opening UoB_Set01_2025-03-24tapes.csv\n"
     ]
    },
    {
     "name": "stderr",
     "output_type": "stream",
     "text": [
      "c:\\Users\\wwden\\OneDrive\\Documents\\GitHub\\dsmp-2024-group-19\\tools.py:218: FutureWarning: DataFrame.applymap has been deprecated. Use DataFrame.map instead.\n",
      "  df_bids_asks = df_bids_asks.applymap(lambda x: x[1:-1].replace(\",\",\"\") if isinstance(x, str) else \"\")\n"
     ]
    },
    {
     "name": "stdout",
     "output_type": "stream",
     "text": [
      "Opening UoB_Set01_2025-03-25tapes.csv\n"
     ]
    },
    {
     "name": "stderr",
     "output_type": "stream",
     "text": [
      "c:\\Users\\wwden\\OneDrive\\Documents\\GitHub\\dsmp-2024-group-19\\tools.py:218: FutureWarning: DataFrame.applymap has been deprecated. Use DataFrame.map instead.\n",
      "  df_bids_asks = df_bids_asks.applymap(lambda x: x[1:-1].replace(\",\",\"\") if isinstance(x, str) else \"\")\n"
     ]
    },
    {
     "name": "stdout",
     "output_type": "stream",
     "text": [
      "Opening UoB_Set01_2025-03-26tapes.csv\n"
     ]
    },
    {
     "name": "stderr",
     "output_type": "stream",
     "text": [
      "c:\\Users\\wwden\\OneDrive\\Documents\\GitHub\\dsmp-2024-group-19\\tools.py:218: FutureWarning: DataFrame.applymap has been deprecated. Use DataFrame.map instead.\n",
      "  df_bids_asks = df_bids_asks.applymap(lambda x: x[1:-1].replace(\",\",\"\") if isinstance(x, str) else \"\")\n"
     ]
    },
    {
     "name": "stdout",
     "output_type": "stream",
     "text": [
      "Opening UoB_Set01_2025-03-27tapes.csv\n"
     ]
    },
    {
     "name": "stderr",
     "output_type": "stream",
     "text": [
      "c:\\Users\\wwden\\OneDrive\\Documents\\GitHub\\dsmp-2024-group-19\\tools.py:218: FutureWarning: DataFrame.applymap has been deprecated. Use DataFrame.map instead.\n",
      "  df_bids_asks = df_bids_asks.applymap(lambda x: x[1:-1].replace(\",\",\"\") if isinstance(x, str) else \"\")\n"
     ]
    },
    {
     "name": "stdout",
     "output_type": "stream",
     "text": [
      "Opening UoB_Set01_2025-03-28tapes.csv\n"
     ]
    },
    {
     "name": "stderr",
     "output_type": "stream",
     "text": [
      "c:\\Users\\wwden\\OneDrive\\Documents\\GitHub\\dsmp-2024-group-19\\tools.py:218: FutureWarning: DataFrame.applymap has been deprecated. Use DataFrame.map instead.\n",
      "  df_bids_asks = df_bids_asks.applymap(lambda x: x[1:-1].replace(\",\",\"\") if isinstance(x, str) else \"\")\n"
     ]
    },
    {
     "name": "stdout",
     "output_type": "stream",
     "text": [
      "Opening UoB_Set01_2025-03-31tapes.csv\n"
     ]
    },
    {
     "name": "stderr",
     "output_type": "stream",
     "text": [
      "c:\\Users\\wwden\\OneDrive\\Documents\\GitHub\\dsmp-2024-group-19\\tools.py:218: FutureWarning: DataFrame.applymap has been deprecated. Use DataFrame.map instead.\n",
      "  df_bids_asks = df_bids_asks.applymap(lambda x: x[1:-1].replace(\",\",\"\") if isinstance(x, str) else \"\")\n"
     ]
    },
    {
     "name": "stdout",
     "output_type": "stream",
     "text": [
      "Opening UoB_Set01_2025-04-01tapes.csv\n"
     ]
    },
    {
     "name": "stderr",
     "output_type": "stream",
     "text": [
      "c:\\Users\\wwden\\OneDrive\\Documents\\GitHub\\dsmp-2024-group-19\\tools.py:218: FutureWarning: DataFrame.applymap has been deprecated. Use DataFrame.map instead.\n",
      "  df_bids_asks = df_bids_asks.applymap(lambda x: x[1:-1].replace(\",\",\"\") if isinstance(x, str) else \"\")\n"
     ]
    },
    {
     "name": "stdout",
     "output_type": "stream",
     "text": [
      "Opening UoB_Set01_2025-04-02tapes.csv\n"
     ]
    },
    {
     "name": "stderr",
     "output_type": "stream",
     "text": [
      "c:\\Users\\wwden\\OneDrive\\Documents\\GitHub\\dsmp-2024-group-19\\tools.py:218: FutureWarning: DataFrame.applymap has been deprecated. Use DataFrame.map instead.\n",
      "  df_bids_asks = df_bids_asks.applymap(lambda x: x[1:-1].replace(\",\",\"\") if isinstance(x, str) else \"\")\n"
     ]
    },
    {
     "name": "stdout",
     "output_type": "stream",
     "text": [
      "Opening UoB_Set01_2025-04-03tapes.csv\n"
     ]
    },
    {
     "name": "stderr",
     "output_type": "stream",
     "text": [
      "c:\\Users\\wwden\\OneDrive\\Documents\\GitHub\\dsmp-2024-group-19\\tools.py:218: FutureWarning: DataFrame.applymap has been deprecated. Use DataFrame.map instead.\n",
      "  df_bids_asks = df_bids_asks.applymap(lambda x: x[1:-1].replace(\",\",\"\") if isinstance(x, str) else \"\")\n"
     ]
    },
    {
     "name": "stdout",
     "output_type": "stream",
     "text": [
      "Opening UoB_Set01_2025-04-04tapes.csv\n"
     ]
    },
    {
     "name": "stderr",
     "output_type": "stream",
     "text": [
      "c:\\Users\\wwden\\OneDrive\\Documents\\GitHub\\dsmp-2024-group-19\\tools.py:218: FutureWarning: DataFrame.applymap has been deprecated. Use DataFrame.map instead.\n",
      "  df_bids_asks = df_bids_asks.applymap(lambda x: x[1:-1].replace(\",\",\"\") if isinstance(x, str) else \"\")\n"
     ]
    },
    {
     "name": "stdout",
     "output_type": "stream",
     "text": [
      "Opening UoB_Set01_2025-04-07tapes.csv\n"
     ]
    },
    {
     "name": "stderr",
     "output_type": "stream",
     "text": [
      "c:\\Users\\wwden\\OneDrive\\Documents\\GitHub\\dsmp-2024-group-19\\tools.py:218: FutureWarning: DataFrame.applymap has been deprecated. Use DataFrame.map instead.\n",
      "  df_bids_asks = df_bids_asks.applymap(lambda x: x[1:-1].replace(\",\",\"\") if isinstance(x, str) else \"\")\n"
     ]
    },
    {
     "name": "stdout",
     "output_type": "stream",
     "text": [
      "Opening UoB_Set01_2025-04-08tapes.csv\n"
     ]
    },
    {
     "name": "stderr",
     "output_type": "stream",
     "text": [
      "c:\\Users\\wwden\\OneDrive\\Documents\\GitHub\\dsmp-2024-group-19\\tools.py:218: FutureWarning: DataFrame.applymap has been deprecated. Use DataFrame.map instead.\n",
      "  df_bids_asks = df_bids_asks.applymap(lambda x: x[1:-1].replace(\",\",\"\") if isinstance(x, str) else \"\")\n"
     ]
    },
    {
     "name": "stdout",
     "output_type": "stream",
     "text": [
      "Opening UoB_Set01_2025-04-09tapes.csv\n"
     ]
    },
    {
     "name": "stderr",
     "output_type": "stream",
     "text": [
      "c:\\Users\\wwden\\OneDrive\\Documents\\GitHub\\dsmp-2024-group-19\\tools.py:218: FutureWarning: DataFrame.applymap has been deprecated. Use DataFrame.map instead.\n",
      "  df_bids_asks = df_bids_asks.applymap(lambda x: x[1:-1].replace(\",\",\"\") if isinstance(x, str) else \"\")\n"
     ]
    },
    {
     "name": "stdout",
     "output_type": "stream",
     "text": [
      "Opening UoB_Set01_2025-04-10tapes.csv\n"
     ]
    },
    {
     "name": "stderr",
     "output_type": "stream",
     "text": [
      "c:\\Users\\wwden\\OneDrive\\Documents\\GitHub\\dsmp-2024-group-19\\tools.py:218: FutureWarning: DataFrame.applymap has been deprecated. Use DataFrame.map instead.\n",
      "  df_bids_asks = df_bids_asks.applymap(lambda x: x[1:-1].replace(\",\",\"\") if isinstance(x, str) else \"\")\n"
     ]
    },
    {
     "name": "stdout",
     "output_type": "stream",
     "text": [
      "Opening UoB_Set01_2025-04-11tapes.csv\n"
     ]
    },
    {
     "name": "stderr",
     "output_type": "stream",
     "text": [
      "c:\\Users\\wwden\\OneDrive\\Documents\\GitHub\\dsmp-2024-group-19\\tools.py:218: FutureWarning: DataFrame.applymap has been deprecated. Use DataFrame.map instead.\n",
      "  df_bids_asks = df_bids_asks.applymap(lambda x: x[1:-1].replace(\",\",\"\") if isinstance(x, str) else \"\")\n"
     ]
    },
    {
     "name": "stdout",
     "output_type": "stream",
     "text": [
      "Opening UoB_Set01_2025-04-14tapes.csv\n"
     ]
    },
    {
     "name": "stderr",
     "output_type": "stream",
     "text": [
      "c:\\Users\\wwden\\OneDrive\\Documents\\GitHub\\dsmp-2024-group-19\\tools.py:218: FutureWarning: DataFrame.applymap has been deprecated. Use DataFrame.map instead.\n",
      "  df_bids_asks = df_bids_asks.applymap(lambda x: x[1:-1].replace(\",\",\"\") if isinstance(x, str) else \"\")\n"
     ]
    },
    {
     "name": "stdout",
     "output_type": "stream",
     "text": [
      "Opening UoB_Set01_2025-04-15tapes.csv\n"
     ]
    },
    {
     "name": "stderr",
     "output_type": "stream",
     "text": [
      "c:\\Users\\wwden\\OneDrive\\Documents\\GitHub\\dsmp-2024-group-19\\tools.py:218: FutureWarning: DataFrame.applymap has been deprecated. Use DataFrame.map instead.\n",
      "  df_bids_asks = df_bids_asks.applymap(lambda x: x[1:-1].replace(\",\",\"\") if isinstance(x, str) else \"\")\n"
     ]
    },
    {
     "name": "stdout",
     "output_type": "stream",
     "text": [
      "Opening UoB_Set01_2025-04-16tapes.csv\n"
     ]
    },
    {
     "name": "stderr",
     "output_type": "stream",
     "text": [
      "c:\\Users\\wwden\\OneDrive\\Documents\\GitHub\\dsmp-2024-group-19\\tools.py:218: FutureWarning: DataFrame.applymap has been deprecated. Use DataFrame.map instead.\n",
      "  df_bids_asks = df_bids_asks.applymap(lambda x: x[1:-1].replace(\",\",\"\") if isinstance(x, str) else \"\")\n"
     ]
    },
    {
     "name": "stdout",
     "output_type": "stream",
     "text": [
      "Opening UoB_Set01_2025-04-17tapes.csv\n"
     ]
    },
    {
     "name": "stderr",
     "output_type": "stream",
     "text": [
      "c:\\Users\\wwden\\OneDrive\\Documents\\GitHub\\dsmp-2024-group-19\\tools.py:218: FutureWarning: DataFrame.applymap has been deprecated. Use DataFrame.map instead.\n",
      "  df_bids_asks = df_bids_asks.applymap(lambda x: x[1:-1].replace(\",\",\"\") if isinstance(x, str) else \"\")\n"
     ]
    },
    {
     "name": "stdout",
     "output_type": "stream",
     "text": [
      "Opening UoB_Set01_2025-04-22tapes.csv\n"
     ]
    },
    {
     "name": "stderr",
     "output_type": "stream",
     "text": [
      "c:\\Users\\wwden\\OneDrive\\Documents\\GitHub\\dsmp-2024-group-19\\tools.py:218: FutureWarning: DataFrame.applymap has been deprecated. Use DataFrame.map instead.\n",
      "  df_bids_asks = df_bids_asks.applymap(lambda x: x[1:-1].replace(\",\",\"\") if isinstance(x, str) else \"\")\n"
     ]
    },
    {
     "name": "stdout",
     "output_type": "stream",
     "text": [
      "Opening UoB_Set01_2025-04-23tapes.csv\n"
     ]
    },
    {
     "name": "stderr",
     "output_type": "stream",
     "text": [
      "c:\\Users\\wwden\\OneDrive\\Documents\\GitHub\\dsmp-2024-group-19\\tools.py:218: FutureWarning: DataFrame.applymap has been deprecated. Use DataFrame.map instead.\n",
      "  df_bids_asks = df_bids_asks.applymap(lambda x: x[1:-1].replace(\",\",\"\") if isinstance(x, str) else \"\")\n"
     ]
    },
    {
     "name": "stdout",
     "output_type": "stream",
     "text": [
      "Opening UoB_Set01_2025-04-24tapes.csv\n"
     ]
    },
    {
     "name": "stderr",
     "output_type": "stream",
     "text": [
      "c:\\Users\\wwden\\OneDrive\\Documents\\GitHub\\dsmp-2024-group-19\\tools.py:218: FutureWarning: DataFrame.applymap has been deprecated. Use DataFrame.map instead.\n",
      "  df_bids_asks = df_bids_asks.applymap(lambda x: x[1:-1].replace(\",\",\"\") if isinstance(x, str) else \"\")\n"
     ]
    },
    {
     "name": "stdout",
     "output_type": "stream",
     "text": [
      "Opening UoB_Set01_2025-04-25tapes.csv\n"
     ]
    },
    {
     "name": "stderr",
     "output_type": "stream",
     "text": [
      "c:\\Users\\wwden\\OneDrive\\Documents\\GitHub\\dsmp-2024-group-19\\tools.py:218: FutureWarning: DataFrame.applymap has been deprecated. Use DataFrame.map instead.\n",
      "  df_bids_asks = df_bids_asks.applymap(lambda x: x[1:-1].replace(\",\",\"\") if isinstance(x, str) else \"\")\n"
     ]
    },
    {
     "name": "stdout",
     "output_type": "stream",
     "text": [
      "Opening UoB_Set01_2025-04-28tapes.csv\n"
     ]
    },
    {
     "name": "stderr",
     "output_type": "stream",
     "text": [
      "c:\\Users\\wwden\\OneDrive\\Documents\\GitHub\\dsmp-2024-group-19\\tools.py:218: FutureWarning: DataFrame.applymap has been deprecated. Use DataFrame.map instead.\n",
      "  df_bids_asks = df_bids_asks.applymap(lambda x: x[1:-1].replace(\",\",\"\") if isinstance(x, str) else \"\")\n"
     ]
    },
    {
     "name": "stdout",
     "output_type": "stream",
     "text": [
      "Opening UoB_Set01_2025-04-29tapes.csv\n"
     ]
    },
    {
     "name": "stderr",
     "output_type": "stream",
     "text": [
      "c:\\Users\\wwden\\OneDrive\\Documents\\GitHub\\dsmp-2024-group-19\\tools.py:218: FutureWarning: DataFrame.applymap has been deprecated. Use DataFrame.map instead.\n",
      "  df_bids_asks = df_bids_asks.applymap(lambda x: x[1:-1].replace(\",\",\"\") if isinstance(x, str) else \"\")\n"
     ]
    },
    {
     "name": "stdout",
     "output_type": "stream",
     "text": [
      "Opening UoB_Set01_2025-04-30tapes.csv\n"
     ]
    },
    {
     "name": "stderr",
     "output_type": "stream",
     "text": [
      "c:\\Users\\wwden\\OneDrive\\Documents\\GitHub\\dsmp-2024-group-19\\tools.py:218: FutureWarning: DataFrame.applymap has been deprecated. Use DataFrame.map instead.\n",
      "  df_bids_asks = df_bids_asks.applymap(lambda x: x[1:-1].replace(\",\",\"\") if isinstance(x, str) else \"\")\n"
     ]
    },
    {
     "name": "stdout",
     "output_type": "stream",
     "text": [
      "Opening UoB_Set01_2025-05-01tapes.csv\n"
     ]
    },
    {
     "name": "stderr",
     "output_type": "stream",
     "text": [
      "c:\\Users\\wwden\\OneDrive\\Documents\\GitHub\\dsmp-2024-group-19\\tools.py:218: FutureWarning: DataFrame.applymap has been deprecated. Use DataFrame.map instead.\n",
      "  df_bids_asks = df_bids_asks.applymap(lambda x: x[1:-1].replace(\",\",\"\") if isinstance(x, str) else \"\")\n"
     ]
    },
    {
     "name": "stdout",
     "output_type": "stream",
     "text": [
      "Opening UoB_Set01_2025-05-02tapes.csv\n"
     ]
    },
    {
     "name": "stderr",
     "output_type": "stream",
     "text": [
      "c:\\Users\\wwden\\OneDrive\\Documents\\GitHub\\dsmp-2024-group-19\\tools.py:218: FutureWarning: DataFrame.applymap has been deprecated. Use DataFrame.map instead.\n",
      "  df_bids_asks = df_bids_asks.applymap(lambda x: x[1:-1].replace(\",\",\"\") if isinstance(x, str) else \"\")\n"
     ]
    },
    {
     "name": "stdout",
     "output_type": "stream",
     "text": [
      "Opening UoB_Set01_2025-05-06tapes.csv\n"
     ]
    },
    {
     "name": "stderr",
     "output_type": "stream",
     "text": [
      "c:\\Users\\wwden\\OneDrive\\Documents\\GitHub\\dsmp-2024-group-19\\tools.py:218: FutureWarning: DataFrame.applymap has been deprecated. Use DataFrame.map instead.\n",
      "  df_bids_asks = df_bids_asks.applymap(lambda x: x[1:-1].replace(\",\",\"\") if isinstance(x, str) else \"\")\n"
     ]
    },
    {
     "name": "stdout",
     "output_type": "stream",
     "text": [
      "Opening UoB_Set01_2025-05-07tapes.csv\n"
     ]
    },
    {
     "name": "stderr",
     "output_type": "stream",
     "text": [
      "c:\\Users\\wwden\\OneDrive\\Documents\\GitHub\\dsmp-2024-group-19\\tools.py:218: FutureWarning: DataFrame.applymap has been deprecated. Use DataFrame.map instead.\n",
      "  df_bids_asks = df_bids_asks.applymap(lambda x: x[1:-1].replace(\",\",\"\") if isinstance(x, str) else \"\")\n"
     ]
    },
    {
     "name": "stdout",
     "output_type": "stream",
     "text": [
      "Opening UoB_Set01_2025-05-08tapes.csv\n"
     ]
    },
    {
     "name": "stderr",
     "output_type": "stream",
     "text": [
      "c:\\Users\\wwden\\OneDrive\\Documents\\GitHub\\dsmp-2024-group-19\\tools.py:218: FutureWarning: DataFrame.applymap has been deprecated. Use DataFrame.map instead.\n",
      "  df_bids_asks = df_bids_asks.applymap(lambda x: x[1:-1].replace(\",\",\"\") if isinstance(x, str) else \"\")\n"
     ]
    },
    {
     "name": "stdout",
     "output_type": "stream",
     "text": [
      "Opening UoB_Set01_2025-05-09tapes.csv\n"
     ]
    },
    {
     "name": "stderr",
     "output_type": "stream",
     "text": [
      "c:\\Users\\wwden\\OneDrive\\Documents\\GitHub\\dsmp-2024-group-19\\tools.py:218: FutureWarning: DataFrame.applymap has been deprecated. Use DataFrame.map instead.\n",
      "  df_bids_asks = df_bids_asks.applymap(lambda x: x[1:-1].replace(\",\",\"\") if isinstance(x, str) else \"\")\n"
     ]
    },
    {
     "name": "stdout",
     "output_type": "stream",
     "text": [
      "Opening UoB_Set01_2025-05-12tapes.csv\n"
     ]
    },
    {
     "name": "stderr",
     "output_type": "stream",
     "text": [
      "c:\\Users\\wwden\\OneDrive\\Documents\\GitHub\\dsmp-2024-group-19\\tools.py:218: FutureWarning: DataFrame.applymap has been deprecated. Use DataFrame.map instead.\n",
      "  df_bids_asks = df_bids_asks.applymap(lambda x: x[1:-1].replace(\",\",\"\") if isinstance(x, str) else \"\")\n"
     ]
    },
    {
     "name": "stdout",
     "output_type": "stream",
     "text": [
      "Opening UoB_Set01_2025-05-13tapes.csv\n"
     ]
    },
    {
     "name": "stderr",
     "output_type": "stream",
     "text": [
      "c:\\Users\\wwden\\OneDrive\\Documents\\GitHub\\dsmp-2024-group-19\\tools.py:218: FutureWarning: DataFrame.applymap has been deprecated. Use DataFrame.map instead.\n",
      "  df_bids_asks = df_bids_asks.applymap(lambda x: x[1:-1].replace(\",\",\"\") if isinstance(x, str) else \"\")\n"
     ]
    },
    {
     "name": "stdout",
     "output_type": "stream",
     "text": [
      "Opening UoB_Set01_2025-05-14tapes.csv\n"
     ]
    },
    {
     "name": "stderr",
     "output_type": "stream",
     "text": [
      "c:\\Users\\wwden\\OneDrive\\Documents\\GitHub\\dsmp-2024-group-19\\tools.py:218: FutureWarning: DataFrame.applymap has been deprecated. Use DataFrame.map instead.\n",
      "  df_bids_asks = df_bids_asks.applymap(lambda x: x[1:-1].replace(\",\",\"\") if isinstance(x, str) else \"\")\n"
     ]
    },
    {
     "name": "stdout",
     "output_type": "stream",
     "text": [
      "Opening UoB_Set01_2025-05-15tapes.csv\n"
     ]
    },
    {
     "name": "stderr",
     "output_type": "stream",
     "text": [
      "c:\\Users\\wwden\\OneDrive\\Documents\\GitHub\\dsmp-2024-group-19\\tools.py:218: FutureWarning: DataFrame.applymap has been deprecated. Use DataFrame.map instead.\n",
      "  df_bids_asks = df_bids_asks.applymap(lambda x: x[1:-1].replace(\",\",\"\") if isinstance(x, str) else \"\")\n"
     ]
    },
    {
     "name": "stdout",
     "output_type": "stream",
     "text": [
      "Opening UoB_Set01_2025-05-16tapes.csv\n"
     ]
    },
    {
     "name": "stderr",
     "output_type": "stream",
     "text": [
      "c:\\Users\\wwden\\OneDrive\\Documents\\GitHub\\dsmp-2024-group-19\\tools.py:218: FutureWarning: DataFrame.applymap has been deprecated. Use DataFrame.map instead.\n",
      "  df_bids_asks = df_bids_asks.applymap(lambda x: x[1:-1].replace(\",\",\"\") if isinstance(x, str) else \"\")\n"
     ]
    },
    {
     "name": "stdout",
     "output_type": "stream",
     "text": [
      "Opening UoB_Set01_2025-05-19tapes.csv\n"
     ]
    },
    {
     "name": "stderr",
     "output_type": "stream",
     "text": [
      "c:\\Users\\wwden\\OneDrive\\Documents\\GitHub\\dsmp-2024-group-19\\tools.py:218: FutureWarning: DataFrame.applymap has been deprecated. Use DataFrame.map instead.\n",
      "  df_bids_asks = df_bids_asks.applymap(lambda x: x[1:-1].replace(\",\",\"\") if isinstance(x, str) else \"\")\n"
     ]
    },
    {
     "name": "stdout",
     "output_type": "stream",
     "text": [
      "Opening UoB_Set01_2025-05-20tapes.csv\n"
     ]
    },
    {
     "name": "stderr",
     "output_type": "stream",
     "text": [
      "c:\\Users\\wwden\\OneDrive\\Documents\\GitHub\\dsmp-2024-group-19\\tools.py:218: FutureWarning: DataFrame.applymap has been deprecated. Use DataFrame.map instead.\n",
      "  df_bids_asks = df_bids_asks.applymap(lambda x: x[1:-1].replace(\",\",\"\") if isinstance(x, str) else \"\")\n"
     ]
    },
    {
     "name": "stdout",
     "output_type": "stream",
     "text": [
      "Opening UoB_Set01_2025-05-21tapes.csv\n"
     ]
    },
    {
     "name": "stderr",
     "output_type": "stream",
     "text": [
      "c:\\Users\\wwden\\OneDrive\\Documents\\GitHub\\dsmp-2024-group-19\\tools.py:218: FutureWarning: DataFrame.applymap has been deprecated. Use DataFrame.map instead.\n",
      "  df_bids_asks = df_bids_asks.applymap(lambda x: x[1:-1].replace(\",\",\"\") if isinstance(x, str) else \"\")\n"
     ]
    },
    {
     "name": "stdout",
     "output_type": "stream",
     "text": [
      "Opening UoB_Set01_2025-05-22tapes.csv\n"
     ]
    },
    {
     "name": "stderr",
     "output_type": "stream",
     "text": [
      "c:\\Users\\wwden\\OneDrive\\Documents\\GitHub\\dsmp-2024-group-19\\tools.py:218: FutureWarning: DataFrame.applymap has been deprecated. Use DataFrame.map instead.\n",
      "  df_bids_asks = df_bids_asks.applymap(lambda x: x[1:-1].replace(\",\",\"\") if isinstance(x, str) else \"\")\n"
     ]
    },
    {
     "name": "stdout",
     "output_type": "stream",
     "text": [
      "Opening UoB_Set01_2025-05-23tapes.csv\n"
     ]
    },
    {
     "name": "stderr",
     "output_type": "stream",
     "text": [
      "c:\\Users\\wwden\\OneDrive\\Documents\\GitHub\\dsmp-2024-group-19\\tools.py:218: FutureWarning: DataFrame.applymap has been deprecated. Use DataFrame.map instead.\n",
      "  df_bids_asks = df_bids_asks.applymap(lambda x: x[1:-1].replace(\",\",\"\") if isinstance(x, str) else \"\")\n"
     ]
    },
    {
     "name": "stdout",
     "output_type": "stream",
     "text": [
      "Opening UoB_Set01_2025-05-27tapes.csv\n"
     ]
    },
    {
     "name": "stderr",
     "output_type": "stream",
     "text": [
      "c:\\Users\\wwden\\OneDrive\\Documents\\GitHub\\dsmp-2024-group-19\\tools.py:218: FutureWarning: DataFrame.applymap has been deprecated. Use DataFrame.map instead.\n",
      "  df_bids_asks = df_bids_asks.applymap(lambda x: x[1:-1].replace(\",\",\"\") if isinstance(x, str) else \"\")\n"
     ]
    },
    {
     "name": "stdout",
     "output_type": "stream",
     "text": [
      "Opening UoB_Set01_2025-05-28tapes.csv\n"
     ]
    },
    {
     "name": "stderr",
     "output_type": "stream",
     "text": [
      "c:\\Users\\wwden\\OneDrive\\Documents\\GitHub\\dsmp-2024-group-19\\tools.py:218: FutureWarning: DataFrame.applymap has been deprecated. Use DataFrame.map instead.\n",
      "  df_bids_asks = df_bids_asks.applymap(lambda x: x[1:-1].replace(\",\",\"\") if isinstance(x, str) else \"\")\n"
     ]
    },
    {
     "name": "stdout",
     "output_type": "stream",
     "text": [
      "Opening UoB_Set01_2025-05-29tapes.csv\n"
     ]
    },
    {
     "name": "stderr",
     "output_type": "stream",
     "text": [
      "c:\\Users\\wwden\\OneDrive\\Documents\\GitHub\\dsmp-2024-group-19\\tools.py:218: FutureWarning: DataFrame.applymap has been deprecated. Use DataFrame.map instead.\n",
      "  df_bids_asks = df_bids_asks.applymap(lambda x: x[1:-1].replace(\",\",\"\") if isinstance(x, str) else \"\")\n"
     ]
    },
    {
     "name": "stdout",
     "output_type": "stream",
     "text": [
      "Opening UoB_Set01_2025-05-30tapes.csv\n"
     ]
    },
    {
     "name": "stderr",
     "output_type": "stream",
     "text": [
      "c:\\Users\\wwden\\OneDrive\\Documents\\GitHub\\dsmp-2024-group-19\\tools.py:218: FutureWarning: DataFrame.applymap has been deprecated. Use DataFrame.map instead.\n",
      "  df_bids_asks = df_bids_asks.applymap(lambda x: x[1:-1].replace(\",\",\"\") if isinstance(x, str) else \"\")\n"
     ]
    },
    {
     "name": "stdout",
     "output_type": "stream",
     "text": [
      "Opening UoB_Set01_2025-06-02tapes.csv\n"
     ]
    },
    {
     "name": "stderr",
     "output_type": "stream",
     "text": [
      "c:\\Users\\wwden\\OneDrive\\Documents\\GitHub\\dsmp-2024-group-19\\tools.py:218: FutureWarning: DataFrame.applymap has been deprecated. Use DataFrame.map instead.\n",
      "  df_bids_asks = df_bids_asks.applymap(lambda x: x[1:-1].replace(\",\",\"\") if isinstance(x, str) else \"\")\n"
     ]
    },
    {
     "name": "stdout",
     "output_type": "stream",
     "text": [
      "Opening UoB_Set01_2025-06-03tapes.csv\n"
     ]
    },
    {
     "name": "stderr",
     "output_type": "stream",
     "text": [
      "c:\\Users\\wwden\\OneDrive\\Documents\\GitHub\\dsmp-2024-group-19\\tools.py:218: FutureWarning: DataFrame.applymap has been deprecated. Use DataFrame.map instead.\n",
      "  df_bids_asks = df_bids_asks.applymap(lambda x: x[1:-1].replace(\",\",\"\") if isinstance(x, str) else \"\")\n"
     ]
    },
    {
     "name": "stdout",
     "output_type": "stream",
     "text": [
      "Opening UoB_Set01_2025-06-04tapes.csv\n"
     ]
    },
    {
     "name": "stderr",
     "output_type": "stream",
     "text": [
      "c:\\Users\\wwden\\OneDrive\\Documents\\GitHub\\dsmp-2024-group-19\\tools.py:218: FutureWarning: DataFrame.applymap has been deprecated. Use DataFrame.map instead.\n",
      "  df_bids_asks = df_bids_asks.applymap(lambda x: x[1:-1].replace(\",\",\"\") if isinstance(x, str) else \"\")\n"
     ]
    },
    {
     "name": "stdout",
     "output_type": "stream",
     "text": [
      "Opening UoB_Set01_2025-06-05tapes.csv\n"
     ]
    },
    {
     "name": "stderr",
     "output_type": "stream",
     "text": [
      "c:\\Users\\wwden\\OneDrive\\Documents\\GitHub\\dsmp-2024-group-19\\tools.py:218: FutureWarning: DataFrame.applymap has been deprecated. Use DataFrame.map instead.\n",
      "  df_bids_asks = df_bids_asks.applymap(lambda x: x[1:-1].replace(\",\",\"\") if isinstance(x, str) else \"\")\n"
     ]
    },
    {
     "name": "stdout",
     "output_type": "stream",
     "text": [
      "Opening UoB_Set01_2025-06-06tapes.csv\n"
     ]
    },
    {
     "name": "stderr",
     "output_type": "stream",
     "text": [
      "c:\\Users\\wwden\\OneDrive\\Documents\\GitHub\\dsmp-2024-group-19\\tools.py:218: FutureWarning: DataFrame.applymap has been deprecated. Use DataFrame.map instead.\n",
      "  df_bids_asks = df_bids_asks.applymap(lambda x: x[1:-1].replace(\",\",\"\") if isinstance(x, str) else \"\")\n"
     ]
    },
    {
     "name": "stdout",
     "output_type": "stream",
     "text": [
      "Opening UoB_Set01_2025-06-09tapes.csv\n"
     ]
    },
    {
     "name": "stderr",
     "output_type": "stream",
     "text": [
      "c:\\Users\\wwden\\OneDrive\\Documents\\GitHub\\dsmp-2024-group-19\\tools.py:218: FutureWarning: DataFrame.applymap has been deprecated. Use DataFrame.map instead.\n",
      "  df_bids_asks = df_bids_asks.applymap(lambda x: x[1:-1].replace(\",\",\"\") if isinstance(x, str) else \"\")\n"
     ]
    },
    {
     "name": "stdout",
     "output_type": "stream",
     "text": [
      "Opening UoB_Set01_2025-06-10tapes.csv\n"
     ]
    },
    {
     "name": "stderr",
     "output_type": "stream",
     "text": [
      "c:\\Users\\wwden\\OneDrive\\Documents\\GitHub\\dsmp-2024-group-19\\tools.py:218: FutureWarning: DataFrame.applymap has been deprecated. Use DataFrame.map instead.\n",
      "  df_bids_asks = df_bids_asks.applymap(lambda x: x[1:-1].replace(\",\",\"\") if isinstance(x, str) else \"\")\n"
     ]
    },
    {
     "name": "stdout",
     "output_type": "stream",
     "text": [
      "Opening UoB_Set01_2025-06-11tapes.csv\n"
     ]
    },
    {
     "name": "stderr",
     "output_type": "stream",
     "text": [
      "c:\\Users\\wwden\\OneDrive\\Documents\\GitHub\\dsmp-2024-group-19\\tools.py:218: FutureWarning: DataFrame.applymap has been deprecated. Use DataFrame.map instead.\n",
      "  df_bids_asks = df_bids_asks.applymap(lambda x: x[1:-1].replace(\",\",\"\") if isinstance(x, str) else \"\")\n"
     ]
    },
    {
     "name": "stdout",
     "output_type": "stream",
     "text": [
      "Opening UoB_Set01_2025-06-12tapes.csv\n"
     ]
    },
    {
     "name": "stderr",
     "output_type": "stream",
     "text": [
      "c:\\Users\\wwden\\OneDrive\\Documents\\GitHub\\dsmp-2024-group-19\\tools.py:218: FutureWarning: DataFrame.applymap has been deprecated. Use DataFrame.map instead.\n",
      "  df_bids_asks = df_bids_asks.applymap(lambda x: x[1:-1].replace(\",\",\"\") if isinstance(x, str) else \"\")\n"
     ]
    },
    {
     "name": "stdout",
     "output_type": "stream",
     "text": [
      "Opening UoB_Set01_2025-06-13tapes.csv\n"
     ]
    },
    {
     "name": "stderr",
     "output_type": "stream",
     "text": [
      "c:\\Users\\wwden\\OneDrive\\Documents\\GitHub\\dsmp-2024-group-19\\tools.py:218: FutureWarning: DataFrame.applymap has been deprecated. Use DataFrame.map instead.\n",
      "  df_bids_asks = df_bids_asks.applymap(lambda x: x[1:-1].replace(\",\",\"\") if isinstance(x, str) else \"\")\n"
     ]
    },
    {
     "name": "stdout",
     "output_type": "stream",
     "text": [
      "Opening UoB_Set01_2025-06-16tapes.csv\n"
     ]
    },
    {
     "name": "stderr",
     "output_type": "stream",
     "text": [
      "c:\\Users\\wwden\\OneDrive\\Documents\\GitHub\\dsmp-2024-group-19\\tools.py:218: FutureWarning: DataFrame.applymap has been deprecated. Use DataFrame.map instead.\n",
      "  df_bids_asks = df_bids_asks.applymap(lambda x: x[1:-1].replace(\",\",\"\") if isinstance(x, str) else \"\")\n"
     ]
    },
    {
     "name": "stdout",
     "output_type": "stream",
     "text": [
      "Opening UoB_Set01_2025-06-17tapes.csv\n"
     ]
    },
    {
     "name": "stderr",
     "output_type": "stream",
     "text": [
      "c:\\Users\\wwden\\OneDrive\\Documents\\GitHub\\dsmp-2024-group-19\\tools.py:218: FutureWarning: DataFrame.applymap has been deprecated. Use DataFrame.map instead.\n",
      "  df_bids_asks = df_bids_asks.applymap(lambda x: x[1:-1].replace(\",\",\"\") if isinstance(x, str) else \"\")\n"
     ]
    },
    {
     "name": "stdout",
     "output_type": "stream",
     "text": [
      "Opening UoB_Set01_2025-06-18tapes.csv\n"
     ]
    },
    {
     "name": "stderr",
     "output_type": "stream",
     "text": [
      "c:\\Users\\wwden\\OneDrive\\Documents\\GitHub\\dsmp-2024-group-19\\tools.py:218: FutureWarning: DataFrame.applymap has been deprecated. Use DataFrame.map instead.\n",
      "  df_bids_asks = df_bids_asks.applymap(lambda x: x[1:-1].replace(\",\",\"\") if isinstance(x, str) else \"\")\n"
     ]
    },
    {
     "name": "stdout",
     "output_type": "stream",
     "text": [
      "Opening UoB_Set01_2025-06-19tapes.csv\n"
     ]
    },
    {
     "name": "stderr",
     "output_type": "stream",
     "text": [
      "c:\\Users\\wwden\\OneDrive\\Documents\\GitHub\\dsmp-2024-group-19\\tools.py:218: FutureWarning: DataFrame.applymap has been deprecated. Use DataFrame.map instead.\n",
      "  df_bids_asks = df_bids_asks.applymap(lambda x: x[1:-1].replace(\",\",\"\") if isinstance(x, str) else \"\")\n"
     ]
    },
    {
     "name": "stdout",
     "output_type": "stream",
     "text": [
      "Opening UoB_Set01_2025-06-20tapes.csv\n"
     ]
    },
    {
     "name": "stderr",
     "output_type": "stream",
     "text": [
      "c:\\Users\\wwden\\OneDrive\\Documents\\GitHub\\dsmp-2024-group-19\\tools.py:218: FutureWarning: DataFrame.applymap has been deprecated. Use DataFrame.map instead.\n",
      "  df_bids_asks = df_bids_asks.applymap(lambda x: x[1:-1].replace(\",\",\"\") if isinstance(x, str) else \"\")\n"
     ]
    },
    {
     "name": "stdout",
     "output_type": "stream",
     "text": [
      "Opening UoB_Set01_2025-06-23tapes.csv\n"
     ]
    },
    {
     "name": "stderr",
     "output_type": "stream",
     "text": [
      "c:\\Users\\wwden\\OneDrive\\Documents\\GitHub\\dsmp-2024-group-19\\tools.py:218: FutureWarning: DataFrame.applymap has been deprecated. Use DataFrame.map instead.\n",
      "  df_bids_asks = df_bids_asks.applymap(lambda x: x[1:-1].replace(\",\",\"\") if isinstance(x, str) else \"\")\n"
     ]
    },
    {
     "name": "stdout",
     "output_type": "stream",
     "text": [
      "Opening UoB_Set01_2025-06-24tapes.csv\n"
     ]
    },
    {
     "name": "stderr",
     "output_type": "stream",
     "text": [
      "c:\\Users\\wwden\\OneDrive\\Documents\\GitHub\\dsmp-2024-group-19\\tools.py:218: FutureWarning: DataFrame.applymap has been deprecated. Use DataFrame.map instead.\n",
      "  df_bids_asks = df_bids_asks.applymap(lambda x: x[1:-1].replace(\",\",\"\") if isinstance(x, str) else \"\")\n"
     ]
    },
    {
     "name": "stdout",
     "output_type": "stream",
     "text": [
      "Opening UoB_Set01_2025-06-25tapes.csv\n"
     ]
    },
    {
     "name": "stderr",
     "output_type": "stream",
     "text": [
      "c:\\Users\\wwden\\OneDrive\\Documents\\GitHub\\dsmp-2024-group-19\\tools.py:218: FutureWarning: DataFrame.applymap has been deprecated. Use DataFrame.map instead.\n",
      "  df_bids_asks = df_bids_asks.applymap(lambda x: x[1:-1].replace(\",\",\"\") if isinstance(x, str) else \"\")\n"
     ]
    },
    {
     "name": "stdout",
     "output_type": "stream",
     "text": [
      "Opening UoB_Set01_2025-06-26tapes.csv\n"
     ]
    },
    {
     "name": "stderr",
     "output_type": "stream",
     "text": [
      "c:\\Users\\wwden\\OneDrive\\Documents\\GitHub\\dsmp-2024-group-19\\tools.py:218: FutureWarning: DataFrame.applymap has been deprecated. Use DataFrame.map instead.\n",
      "  df_bids_asks = df_bids_asks.applymap(lambda x: x[1:-1].replace(\",\",\"\") if isinstance(x, str) else \"\")\n"
     ]
    },
    {
     "name": "stdout",
     "output_type": "stream",
     "text": [
      "Opening UoB_Set01_2025-06-27tapes.csv\n"
     ]
    },
    {
     "name": "stderr",
     "output_type": "stream",
     "text": [
      "c:\\Users\\wwden\\OneDrive\\Documents\\GitHub\\dsmp-2024-group-19\\tools.py:218: FutureWarning: DataFrame.applymap has been deprecated. Use DataFrame.map instead.\n",
      "  df_bids_asks = df_bids_asks.applymap(lambda x: x[1:-1].replace(\",\",\"\") if isinstance(x, str) else \"\")\n"
     ]
    },
    {
     "name": "stdout",
     "output_type": "stream",
     "text": [
      "Opening UoB_Set01_2025-06-30tapes.csv\n"
     ]
    },
    {
     "name": "stderr",
     "output_type": "stream",
     "text": [
      "c:\\Users\\wwden\\OneDrive\\Documents\\GitHub\\dsmp-2024-group-19\\tools.py:218: FutureWarning: DataFrame.applymap has been deprecated. Use DataFrame.map instead.\n",
      "  df_bids_asks = df_bids_asks.applymap(lambda x: x[1:-1].replace(\",\",\"\") if isinstance(x, str) else \"\")\n"
     ]
    },
    {
     "name": "stdout",
     "output_type": "stream",
     "text": [
      "Opening UoB_Set01_2025-07-01tapes.csv\n"
     ]
    },
    {
     "name": "stderr",
     "output_type": "stream",
     "text": [
      "c:\\Users\\wwden\\OneDrive\\Documents\\GitHub\\dsmp-2024-group-19\\tools.py:218: FutureWarning: DataFrame.applymap has been deprecated. Use DataFrame.map instead.\n",
      "  df_bids_asks = df_bids_asks.applymap(lambda x: x[1:-1].replace(\",\",\"\") if isinstance(x, str) else \"\")\n"
     ]
    },
    {
     "data": {
      "text/html": [
       "<div>\n",
       "<style scoped>\n",
       "    .dataframe tbody tr th:only-of-type {\n",
       "        vertical-align: middle;\n",
       "    }\n",
       "\n",
       "    .dataframe tbody tr th {\n",
       "        vertical-align: top;\n",
       "    }\n",
       "\n",
       "    .dataframe thead th {\n",
       "        text-align: right;\n",
       "    }\n",
       "</style>\n",
       "<table border=\"1\" class=\"dataframe\">\n",
       "  <thead>\n",
       "    <tr style=\"text-align: right;\">\n",
       "      <th></th>\n",
       "      <th>Incoming bid</th>\n",
       "      <th>Incoming ask</th>\n",
       "      <th>Outgoing bid</th>\n",
       "      <th>Outgoing ask</th>\n",
       "      <th>alpha</th>\n",
       "      <th>beta</th>\n",
       "      <th>LOB</th>\n",
       "      <th>mid_price</th>\n",
       "      <th>low_ask</th>\n",
       "      <th>high_bid</th>\n",
       "      <th>Volume</th>\n",
       "      <th>Tapes Price</th>\n",
       "      <th>Last Tapes Price</th>\n",
       "    </tr>\n",
       "    <tr>\n",
       "      <th>combined_time</th>\n",
       "      <th></th>\n",
       "      <th></th>\n",
       "      <th></th>\n",
       "      <th></th>\n",
       "      <th></th>\n",
       "      <th></th>\n",
       "      <th></th>\n",
       "      <th></th>\n",
       "      <th></th>\n",
       "      <th></th>\n",
       "      <th></th>\n",
       "      <th></th>\n",
       "      <th></th>\n",
       "    </tr>\n",
       "  </thead>\n",
       "  <tbody>\n",
       "    <tr>\n",
       "      <th>2025-01-02 08:00:00</th>\n",
       "      <td>[1 6]</td>\n",
       "      <td></td>\n",
       "      <td></td>\n",
       "      <td></td>\n",
       "      <td>NaN</td>\n",
       "      <td>NaN</td>\n",
       "      <td>[['bid', [[1, 6]]], ['ask', []]]</td>\n",
       "      <td>NaN</td>\n",
       "      <td>NaN</td>\n",
       "      <td>1.0</td>\n",
       "      <td>NaN</td>\n",
       "      <td>NaN</td>\n",
       "      <td>NaN</td>\n",
       "    </tr>\n",
       "    <tr>\n",
       "      <th>2025-01-02 08:00:01</th>\n",
       "      <td>[261 1]</td>\n",
       "      <td>[800 1][799 1][798 1][797 1]</td>\n",
       "      <td></td>\n",
       "      <td>[800 1][799 1][798 1]</td>\n",
       "      <td>0.002986</td>\n",
       "      <td>0.015020</td>\n",
       "      <td>[['bid', [[261, 1], [1, 6]]], ['ask', [[797, 1...</td>\n",
       "      <td>529.0</td>\n",
       "      <td>797.0</td>\n",
       "      <td>261.0</td>\n",
       "      <td>NaN</td>\n",
       "      <td>NaN</td>\n",
       "      <td>NaN</td>\n",
       "    </tr>\n",
       "    <tr>\n",
       "      <th>2025-01-02 08:00:02</th>\n",
       "      <td>[262 6]</td>\n",
       "      <td>[338 3][297 5]</td>\n",
       "      <td>[1 6]</td>\n",
       "      <td></td>\n",
       "      <td>0.238553</td>\n",
       "      <td>0.165031</td>\n",
       "      <td>[['bid', [[262, 6], [261, 1]]], ['ask', [[297,...</td>\n",
       "      <td>279.5</td>\n",
       "      <td>297.0</td>\n",
       "      <td>262.0</td>\n",
       "      <td>NaN</td>\n",
       "      <td>NaN</td>\n",
       "      <td>NaN</td>\n",
       "    </tr>\n",
       "    <tr>\n",
       "      <th>2025-01-02 08:00:03</th>\n",
       "      <td>[263 6][264 6]</td>\n",
       "      <td>[296 1][309 3][334 4][292 5][291 1][296 4]</td>\n",
       "      <td>[262 6][263 6]</td>\n",
       "      <td>[338 3][297 5][797 1][296 1] [309 3]</td>\n",
       "      <td>0.524854</td>\n",
       "      <td>0.429582</td>\n",
       "      <td>[['bid', [[264, 6], [261, 1]]], ['ask', [[291,...</td>\n",
       "      <td>277.5</td>\n",
       "      <td>291.0</td>\n",
       "      <td>264.0</td>\n",
       "      <td>NaN</td>\n",
       "      <td>NaN</td>\n",
       "      <td>NaN</td>\n",
       "    </tr>\n",
       "    <tr>\n",
       "      <th>2025-01-02 08:00:04</th>\n",
       "      <td></td>\n",
       "      <td>[288 5][307 4][287 1] [296 3][287 4][300 4][28...</td>\n",
       "      <td></td>\n",
       "      <td>[292 5][334 4][296 4][287 1] [296 3][307 4][29...</td>\n",
       "      <td>0.820913</td>\n",
       "      <td>0.541382</td>\n",
       "      <td>[['bid', [[264, 6], [261, 1]]], ['ask', [[286,...</td>\n",
       "      <td>275.0</td>\n",
       "      <td>286.0</td>\n",
       "      <td>264.0</td>\n",
       "      <td>NaN</td>\n",
       "      <td>NaN</td>\n",
       "      <td>NaN</td>\n",
       "    </tr>\n",
       "  </tbody>\n",
       "</table>\n",
       "</div>"
      ],
      "text/plain": [
       "                       Incoming bid  \\\n",
       "combined_time                         \n",
       "2025-01-02 08:00:00           [1 6]   \n",
       "2025-01-02 08:00:01         [261 1]   \n",
       "2025-01-02 08:00:02         [262 6]   \n",
       "2025-01-02 08:00:03  [263 6][264 6]   \n",
       "2025-01-02 08:00:04                   \n",
       "\n",
       "                                                          Incoming ask  \\\n",
       "combined_time                                                            \n",
       "2025-01-02 08:00:00                                                      \n",
       "2025-01-02 08:00:01                       [800 1][799 1][798 1][797 1]   \n",
       "2025-01-02 08:00:02                                     [338 3][297 5]   \n",
       "2025-01-02 08:00:03         [296 1][309 3][334 4][292 5][291 1][296 4]   \n",
       "2025-01-02 08:00:04  [288 5][307 4][287 1] [296 3][287 4][300 4][28...   \n",
       "\n",
       "                       Outgoing bid  \\\n",
       "combined_time                         \n",
       "2025-01-02 08:00:00                   \n",
       "2025-01-02 08:00:01                   \n",
       "2025-01-02 08:00:02           [1 6]   \n",
       "2025-01-02 08:00:03  [262 6][263 6]   \n",
       "2025-01-02 08:00:04                   \n",
       "\n",
       "                                                          Outgoing ask  \\\n",
       "combined_time                                                            \n",
       "2025-01-02 08:00:00                                                      \n",
       "2025-01-02 08:00:01                              [800 1][799 1][798 1]   \n",
       "2025-01-02 08:00:02                                                      \n",
       "2025-01-02 08:00:03               [338 3][297 5][797 1][296 1] [309 3]   \n",
       "2025-01-02 08:00:04  [292 5][334 4][296 4][287 1] [296 3][307 4][29...   \n",
       "\n",
       "                        alpha      beta  \\\n",
       "combined_time                             \n",
       "2025-01-02 08:00:00       NaN       NaN   \n",
       "2025-01-02 08:00:01  0.002986  0.015020   \n",
       "2025-01-02 08:00:02  0.238553  0.165031   \n",
       "2025-01-02 08:00:03  0.524854  0.429582   \n",
       "2025-01-02 08:00:04  0.820913  0.541382   \n",
       "\n",
       "                                                                   LOB  \\\n",
       "combined_time                                                            \n",
       "2025-01-02 08:00:00                   [['bid', [[1, 6]]], ['ask', []]]   \n",
       "2025-01-02 08:00:01  [['bid', [[261, 1], [1, 6]]], ['ask', [[797, 1...   \n",
       "2025-01-02 08:00:02  [['bid', [[262, 6], [261, 1]]], ['ask', [[297,...   \n",
       "2025-01-02 08:00:03  [['bid', [[264, 6], [261, 1]]], ['ask', [[291,...   \n",
       "2025-01-02 08:00:04  [['bid', [[264, 6], [261, 1]]], ['ask', [[286,...   \n",
       "\n",
       "                     mid_price  low_ask  high_bid  Volume  Tapes Price  \\\n",
       "combined_time                                                            \n",
       "2025-01-02 08:00:00        NaN      NaN       1.0     NaN          NaN   \n",
       "2025-01-02 08:00:01      529.0    797.0     261.0     NaN          NaN   \n",
       "2025-01-02 08:00:02      279.5    297.0     262.0     NaN          NaN   \n",
       "2025-01-02 08:00:03      277.5    291.0     264.0     NaN          NaN   \n",
       "2025-01-02 08:00:04      275.0    286.0     264.0     NaN          NaN   \n",
       "\n",
       "                     Last Tapes Price  \n",
       "combined_time                          \n",
       "2025-01-02 08:00:00               NaN  \n",
       "2025-01-02 08:00:01               NaN  \n",
       "2025-01-02 08:00:02               NaN  \n",
       "2025-01-02 08:00:03               NaN  \n",
       "2025-01-02 08:00:04               NaN  "
      ]
     },
     "execution_count": 2,
     "metadata": {},
     "output_type": "execute_result"
    }
   ],
   "source": [
    "from tools import get_Tapes, read_merged_data\n",
    "import pandas as pd\n",
    "raw_tapes = get_Tapes(125,0)\n",
    "tapes_data = [t[\"Price\"].resample(\"1min\").last().ffill().to_numpy() for t in raw_tapes] # resample down to 1 min\n",
    "\n",
    "merged_data = read_merged_data(124)\n",
    "merged_df = pd.concat(merged_data, axis = 0)\n",
    "merged_df.head()"
   ]
  },
  {
   "cell_type": "code",
   "execution_count": null,
   "metadata": {},
   "outputs": [],
   "source": [
    "# get test data\n",
    "import matplotlib.pyplot as plt\n",
    "import numpy as np\n",
    "from numba import njit\n",
    "\n",
    "def broker(actor, price_data: np.array, starting_cash: int, additional_data: np.array , commission = 0.001):\n",
    "    assert price_data.shape[0] == additional_data.shape[0]\n",
    "\n",
    "    time_index = 0\n",
    "    final_time_index = price_data.shape[0]\n",
    "    num_stocks = np.zeros_like(price_data)\n",
    "    cash_value = np.zeros_like(price_data)\n",
    "    cash_value[0] = starting_cash\n",
    "\n",
    "    while True:\n",
    "        action = actor(price_data[:time_index], cash_value[time_index], num_stocks[time_index], additional_data[:time_index])\n",
    "\n",
    "        while abs(action) > 0:\n",
    "            if action > 0: # buy stock\n",
    "                if cash_value[time_index] >= price_data[time_index]:\n",
    "                    cash_value[time_index] = cash_value[time_index] - price_data[time_index]\n",
    "                    cash_value[time_index] = cash_value[time_index] - price_data[time_index] * commission # add commission\n",
    "                    num_stocks[time_index] = num_stocks[time_index] + 1\n",
    "\n",
    "                action += -1\n",
    "\n",
    "            else: # sell stock\n",
    "                if num_stocks[time_index] > 0:\n",
    "                    num_stocks[time_index] = num_stocks[time_index] - 1\n",
    "                    cash_value[time_index] = cash_value[time_index] + price_data[time_index]\n",
    "                    cash_value[time_index] = cash_value[time_index] - price_data[time_index] * commission # add commission\n",
    "\n",
    "                action += 1\n",
    "\n",
    "        time_index += 1\n",
    "        if time_index >= final_time_index:\n",
    "            break\n",
    "\n",
    "        num_stocks[time_index] = num_stocks[time_index - 1]\n",
    "        cash_value[time_index] = cash_value[time_index - 1]\n",
    "\n",
    "    total_value = num_stocks * price_data + cash_value\n",
    "    profit = (total_value[-1] / starting_cash) - 1\n",
    "    \n",
    "    return num_stocks, cash_value, total_value, profit\n",
    "\n",
    "# generate folds\n",
    "def generate_folds(tapes_data, n_folds=5):\n",
    "    tapes_data = np.array(tapes_data)\n",
    "    fold_size = len(tapes_data) // n_folds\n",
    "    \n",
    "    for i in range(n_folds):\n",
    "        start_index = i * fold_size\n",
    "        end_index = (i + 1) * fold_size if i < n_folds - 1 else len(tapes_data)\n",
    "        \n",
    "        test_indices = np.arange(start_index,end_index,1, dtype=int)\n",
    "        # Test split\n",
    "        test_data = tapes_data[test_indices]\n",
    "        \n",
    "        # Training split\n",
    "        train_data = np.delete(tapes_data, test_indices, axis=0)\n",
    "        \n",
    "        yield train_data, test_data\n",
    "\n",
    "def display_results(results, data):\n",
    "    # Plotting Actor vs. Data\n",
    "    plt.figure(figsize=(20, 6))\n",
    "    plt.plot(results[2], color='red', label=\"Actor's Performance\")\n",
    "    plt.legend(loc='upper right')\n",
    "    plt.twinx()\n",
    "    plt.plot(data, color='blue', label=\"Market Data\", alpha=0.7)\n",
    "    plt.xlabel(\"Time\")\n",
    "    plt.ylabel(\"Values\")\n",
    "    plt.title(\"Actor Performance vs. Market Data\")\n",
    "    plt.legend(loc='upper left')\n",
    "    plt.grid(True, linestyle='--', alpha=0.5)\n",
    "    plt.show()\n",
    "\n",
    "    # Plotting Stocks Held and Cash Held\n",
    "    plt.figure(figsize=(20, 6))\n",
    "    plt.plot(results[0], color='orange', label=\"Stocks Held\")\n",
    "    plt.legend(loc='upper right')\n",
    "    plt.ylim(bottom = 0)\n",
    "    plt.twinx()\n",
    "    plt.plot(results[1], color='green', label=\"Cash Held\")\n",
    "    plt.xlabel(\"Time\")\n",
    "    plt.ylabel(\"Amount\")\n",
    "    plt.title(\"Portfolio Holdings Over Time\")\n",
    "    plt.legend(loc='upper left')\n",
    "    plt.grid(True, linestyle='--', alpha=0.5)\n",
    "    plt.ylim(bottom = 0)\n",
    "    plt.show()"
   ]
  },
  {
   "cell_type": "markdown",
   "metadata": {},
   "source": [
    "# Example"
   ]
  },
  {
   "cell_type": "code",
   "execution_count": null,
   "metadata": {},
   "outputs": [],
   "source": [
    "cash = 10_000\n",
    "\n",
    "@njit\n",
    "def random_actor(current_data, current_cash, current_stocks):\n",
    "    return np.random.randint(-10,11)\n",
    "\n",
    "\n",
    "results = broker(random_actor, tapes_data[50], cash)\n",
    "results[-1]"
   ]
  },
  {
   "cell_type": "code",
   "execution_count": null,
   "metadata": {},
   "outputs": [],
   "source": [
    "display_results(results, tapes_data[50])"
   ]
  },
  {
   "cell_type": "markdown",
   "metadata": {},
   "source": [
    "# Mean Reversion"
   ]
  },
  {
   "cell_type": "code",
   "execution_count": null,
   "metadata": {},
   "outputs": [],
   "source": [
    "voli_values = 2 ** np.arange(0, 10)\n",
    "windows = 2 ** np.arange(1,14)\n",
    "\n",
    "voli_values = voli_values / (2 ** 5)\n",
    "\n",
    "grid_profits = np.zeros((len(windows), len(voli_values)))\n",
    "\n",
    "for i in range(len(windows)):\n",
    "    for j in range(len(voli_values)):\n",
    "        print((i,j), end = \"\\r\")    \n",
    "        \n",
    "        @njit\n",
    "        def MA_actor(current_data, current_cash, current_stocks):\n",
    "            if len(current_data) == 0:\n",
    "                return 0\n",
    "\n",
    "            window = windows[i]\n",
    "            ma = np.mean(current_data[-window:])\n",
    "\n",
    "            diff = ma - current_data[-1]\n",
    "            return int(voli_values[j] * diff)\n",
    "        \n",
    "        profits = []\n",
    "        for data in tapes_data:\n",
    "            results = broker(MA_actor, data, 10_000)\n",
    "            profits.append(results[-1])\n",
    "\n",
    "        grid_profits[i, j] = np.mean(profits)"
   ]
  },
  {
   "cell_type": "code",
   "execution_count": null,
   "metadata": {},
   "outputs": [],
   "source": [
    "\n",
    "plt.matshow(grid_profits)\n",
    "plt.yticks(np.arange(len(windows)),[str(a) for a in windows])\n",
    "plt.ylabel(\"Window Size\")\n",
    "\n",
    "plt.xticks(np.arange(len(voli_values)),[str(a) for a in voli_values], rotation = 90)\n",
    "plt.xlabel(\"Voli Values\")\n",
    "\n",
    "\"\"\"\n",
    "for i in range(len(windows)):\n",
    "    for j in range(len(voli_values)):\n",
    "        plt.text(j, i, '{:.3f}'.format(grid_profits[i, j]), ha='center', va='center', color='white')\n",
    "\"\"\"\n",
    "\n",
    "plt.colorbar()"
   ]
  }
 ],
 "metadata": {
  "kernelspec": {
   "display_name": "venv",
   "language": "python",
   "name": "python3"
  },
  "language_info": {
   "codemirror_mode": {
    "name": "ipython",
    "version": 3
   },
   "file_extension": ".py",
   "mimetype": "text/x-python",
   "name": "python",
   "nbconvert_exporter": "python",
   "pygments_lexer": "ipython3",
   "version": "3.11.8"
  }
 },
 "nbformat": 4,
 "nbformat_minor": 2
}
