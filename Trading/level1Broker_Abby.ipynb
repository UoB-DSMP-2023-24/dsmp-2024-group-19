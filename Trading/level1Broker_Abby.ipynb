{
 "cells": [
  {
   "cell_type": "markdown",
   "metadata": {},
   "source": [
    "Abby Experiments"
   ]
  },
  {
   "cell_type": "code",
   "execution_count": 3,
   "metadata": {},
   "outputs": [
    {
     "name": "stdout",
     "output_type": "stream",
     "text": [
      "Working directory: c:\\Users\\abiga\\Documents\n"
     ]
    }
   ],
   "source": [
    "import os\n",
    "\n",
    "def move_to_parent_dir():\n",
    "    current_directory = os.getcwd()\n",
    "    parent_directory = os.path.dirname(current_directory)\n",
    "    os.chdir(parent_directory)\n",
    "    print(\"Working directory:\", os.getcwd())\n",
    "\n",
    "move_to_parent_dir() "
   ]
  },
  {
   "cell_type": "code",
   "execution_count": 2,
   "metadata": {},
   "outputs": [
    {
     "ename": "ModuleNotFoundError",
     "evalue": "No module named 'tools'",
     "output_type": "error",
     "traceback": [
      "\u001b[1;31m---------------------------------------------------------------------------\u001b[0m",
      "\u001b[1;31mModuleNotFoundError\u001b[0m                       Traceback (most recent call last)",
      "Cell \u001b[1;32mIn[2], line 4\u001b[0m\n\u001b[0;32m      2\u001b[0m \u001b[38;5;28;01mimport\u001b[39;00m \u001b[38;5;21;01mmatplotlib\u001b[39;00m\u001b[38;5;21;01m.\u001b[39;00m\u001b[38;5;21;01mpyplot\u001b[39;00m \u001b[38;5;28;01mas\u001b[39;00m \u001b[38;5;21;01mplt\u001b[39;00m\n\u001b[0;32m      3\u001b[0m \u001b[38;5;28;01mimport\u001b[39;00m \u001b[38;5;21;01mnumpy\u001b[39;00m \u001b[38;5;28;01mas\u001b[39;00m \u001b[38;5;21;01mnp\u001b[39;00m\n\u001b[1;32m----> 4\u001b[0m \u001b[38;5;28;01mfrom\u001b[39;00m \u001b[38;5;21;01mtools\u001b[39;00m \u001b[38;5;28;01mimport\u001b[39;00m get_Tapes\n\u001b[0;32m      5\u001b[0m raw_tapes \u001b[38;5;241m=\u001b[39m get_Tapes(\u001b[38;5;241m125\u001b[39m,\u001b[38;5;241m0\u001b[39m)\n\u001b[0;32m      6\u001b[0m tapes_data \u001b[38;5;241m=\u001b[39m [t[\u001b[38;5;124m\"\u001b[39m\u001b[38;5;124mPrice\u001b[39m\u001b[38;5;124m\"\u001b[39m]\u001b[38;5;241m.\u001b[39mresample(\u001b[38;5;124m\"\u001b[39m\u001b[38;5;124m1min\u001b[39m\u001b[38;5;124m\"\u001b[39m)\u001b[38;5;241m.\u001b[39mlast()\u001b[38;5;241m.\u001b[39mffill()\u001b[38;5;241m.\u001b[39mto_numpy() \u001b[38;5;28;01mfor\u001b[39;00m t \u001b[38;5;129;01min\u001b[39;00m raw_tapes] \u001b[38;5;66;03m# resample down to 1 min\u001b[39;00m\n",
      "\u001b[1;31mModuleNotFoundError\u001b[0m: No module named 'tools'"
     ]
    }
   ],
   "source": [
    "# get test data\n",
    "import matplotlib.pyplot as plt\n",
    "import numpy as np\n",
    "from tools import get_Tapes\n",
    "raw_tapes = get_Tapes(125,0)\n",
    "tapes_data = [t[\"Price\"].resample(\"1min\").last().ffill().to_numpy() for t in raw_tapes] # resample down to 1 min\n",
    "\n",
    "# define broker\n",
    "def broker(actor, price_data: np.array, starting_cash: int):\n",
    "    time_index = 0\n",
    "    final_time_index = price_data.shape[0]\n",
    "    num_stocks = np.zeros_like(price_data)\n",
    "    cash_value = np.zeros_like(price_data)\n",
    "    cash_value[0] = starting_cash\n",
    "\n",
    "    while True:\n",
    "        action = actor(price_data[:time_index], cash_value[time_index], num_stocks[time_index])\n",
    "\n",
    "        if action == 1: # buy one stock\n",
    "            if cash_value[time_index] >= price_data[time_index]:\n",
    "                cash_value[time_index] = cash_value[time_index] - price_data[time_index]\n",
    "                num_stocks[time_index] = num_stocks[time_index] + 1\n",
    "\n",
    "        elif action == 2: # sell one stock\n",
    "            if num_stocks[time_index] > 0:\n",
    "                num_stocks[time_index] = num_stocks[time_index] - 1\n",
    "                cash_value[time_index] = cash_value[time_index] + price_data[time_index]\n",
    "        else: # do nothing\n",
    "            pass\n",
    "\n",
    "\n",
    "        time_index += 1\n",
    "        if time_index >= final_time_index:\n",
    "            break\n",
    "\n",
    "        num_stocks[time_index] = num_stocks[time_index - 1]\n",
    "        cash_value[time_index] = cash_value[time_index - 1]\n",
    "\n",
    "    total_value = num_stocks * price_data + cash_value\n",
    "    profit = 1 - (total_value[-1] / starting_cash)\n",
    "    \n",
    "\n",
    "    return num_stocks, cash_value, total_value, profit\n",
    "\n",
    "# generate folds\n",
    "def generate_folds(tapes_data, n_folds=5):\n",
    "    tapes_data = np.array(tapes_data)\n",
    "    fold_size = len(tapes_data) // n_folds\n",
    "    \n",
    "    for i in range(n_folds):\n",
    "        start_index = i * fold_size\n",
    "        end_index = (i + 1) * fold_size if i < n_folds - 1 else len(tapes_data)\n",
    "        \n",
    "        test_indices = np.arange(start_index,end_index,1, dtype=int)\n",
    "        # Test split\n",
    "        test_data = tapes_data[test_indices]\n",
    "        \n",
    "        # Training split\n",
    "        train_data = np.delete(tapes_data, test_indices, axis=0)\n",
    "        \n",
    "        yield train_data, test_data\n",
    "\n",
    "def display_results(results, data):\n",
    "    plt.figure(figsize=(20,5))\n",
    "    plt.plot(results[2], 'r', label = \"actor\")\n",
    "    plt.twinx()\n",
    "    plt.plot(data, 'b', label = \"data\")\n",
    "    plt.legend()\n",
    "    plt.show()"
   ]
  }
 ],
 "metadata": {
  "kernelspec": {
   "display_name": "base",
   "language": "python",
   "name": "python3"
  },
  "language_info": {
   "codemirror_mode": {
    "name": "ipython",
    "version": 3
   },
   "file_extension": ".py",
   "mimetype": "text/x-python",
   "name": "python",
   "nbconvert_exporter": "python",
   "pygments_lexer": "ipython3",
   "version": "3.11.4"
  }
 },
 "nbformat": 4,
 "nbformat_minor": 2
}
