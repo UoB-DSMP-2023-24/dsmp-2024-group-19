{
 "cells": [
  {
   "cell_type": "markdown",
   "metadata": {},
   "source": [
    "# $\\alpha$, $\\beta$ and $\\zeta$ values\n",
    "\n",
    "During the extraction of data we can seperate the bid and ask orders in the limit book. The introduction of these values aims to solve the problem of representing these tensors of information in a single number."
   ]
  },
  {
   "cell_type": "markdown",
   "metadata": {},
   "source": []
  }
 ],
 "metadata": {
  "language_info": {
   "name": "python"
  }
 },
 "nbformat": 4,
 "nbformat_minor": 2
}
