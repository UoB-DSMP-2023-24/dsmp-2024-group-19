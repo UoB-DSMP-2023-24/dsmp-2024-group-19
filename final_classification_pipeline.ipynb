{
 "cells": [
  {
   "cell_type": "markdown",
   "metadata": {},
   "source": [
    "# Load tapes and lob data\n",
    "\n",
    "do this for each day otherwise memory (RAM) exceeds most computers"
   ]
  },
  {
   "cell_type": "code",
   "execution_count": 2,
   "metadata": {},
   "outputs": [
    {
     "name": "stdout",
     "output_type": "stream",
     "text": [
      "Time taken to reach each day: 0.17849993705749512\n"
     ]
    },
    {
     "data": {
      "text/plain": [
       "(array([[ 0,  0,  0, ...,  0,  0,  0],\n",
       "        [-6,  0,  0, ...,  0,  0,  0],\n",
       "        [-6,  0,  0, ...,  0,  0,  1],\n",
       "        ...,\n",
       "        [ 0,  0,  0, ...,  0,  0,  0],\n",
       "        [ 0,  0,  0, ...,  0,  0,  0],\n",
       "        [ 0,  0,  0, ...,  0,  0,  0]], dtype=int8),\n",
       " array([0.0000000e+00, 2.7900000e-01, 1.3330000e+00, ..., 3.0599635e+04,\n",
       "        3.0599759e+04, 3.0599945e+04]),\n",
       " array([[1.1067000e+01, 2.6900000e+02, 1.0000000e+00],\n",
       "        [1.1222000e+01, 2.6700000e+02, 2.0000000e+00],\n",
       "        [1.2338000e+01, 2.7000000e+02, 2.0000000e+00],\n",
       "        ...,\n",
       "        [3.0599108e+04, 2.9200000e+02, 1.0000000e+00],\n",
       "        [3.0599728e+04, 2.9000000e+02, 1.0000000e+00],\n",
       "        [3.0599728e+04, 2.8800000e+02, 1.0000000e+00]]))"
      ]
     },
     "execution_count": 2,
     "metadata": {},
     "output_type": "execute_result"
    }
   ],
   "source": [
    "# code\n",
    "from fast_tools import get_data\n",
    "\n",
    "data = get_data(0,1)"
   ]
  },
  {
   "cell_type": "markdown",
   "metadata": {},
   "source": [
    "# Clean Data\n",
    "Remove outliers from lob and create an additional columns noting this\n",
    "\n",
    "FFill tapes data to get the most up to date tapes price"
   ]
  },
  {
   "cell_type": "code",
   "execution_count": null,
   "metadata": {},
   "outputs": [],
   "source": [
    "# code"
   ]
  },
  {
   "cell_type": "markdown",
   "metadata": {},
   "source": [
    "# Extract features from LOB and Tapes\n",
    "\n",
    "Use 1min aggregation"
   ]
  },
  {
   "cell_type": "code",
   "execution_count": null,
   "metadata": {},
   "outputs": [],
   "source": [
    "# code"
   ]
  },
  {
   "cell_type": "markdown",
   "metadata": {},
   "source": [
    "# Save features\n",
    "\n",
    "for use in models"
   ]
  },
  {
   "cell_type": "markdown",
   "metadata": {},
   "source": []
  }
 ],
 "metadata": {
  "kernelspec": {
   "display_name": "venv",
   "language": "python",
   "name": "python3"
  },
  "language_info": {
   "codemirror_mode": {
    "name": "ipython",
    "version": 3
   },
   "file_extension": ".py",
   "mimetype": "text/x-python",
   "name": "python",
   "nbconvert_exporter": "python",
   "pygments_lexer": "ipython3",
   "version": "3.11.8"
  }
 },
 "nbformat": 4,
 "nbformat_minor": 2
}
